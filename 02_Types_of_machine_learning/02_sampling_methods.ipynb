{
 "cells": [
  {
   "cell_type": "markdown",
   "metadata": {},
   "source": [
    "# ___Sampling Methods___"
   ]
  },
  {
   "cell_type": "markdown",
   "metadata": {},
   "source": [
    "#### Sampling : \n",
    "- Sampling is a process used in statistical analysis in which a predetermined number of observation are taken from large population."
   ]
  },
  {
   "cell_type": "markdown",
   "metadata": {},
   "source": [
    "### __1-Simple sampling__"
   ]
  },
  {
   "cell_type": "code",
   "execution_count": 1,
   "metadata": {},
   "outputs": [],
   "source": [
    "import pandas as pd \n",
    "import numpy as np "
   ]
  },
  {
   "cell_type": "code",
   "execution_count": 2,
   "metadata": {},
   "outputs": [],
   "source": [
    "df = pd.DataFrame(np.random.rand(5000,4) , columns=list('ABCD'))"
   ]
  },
  {
   "cell_type": "code",
   "execution_count": 3,
   "metadata": {},
   "outputs": [
    {
     "data": {
      "text/html": [
       "<div>\n",
       "<style scoped>\n",
       "    .dataframe tbody tr th:only-of-type {\n",
       "        vertical-align: middle;\n",
       "    }\n",
       "\n",
       "    .dataframe tbody tr th {\n",
       "        vertical-align: top;\n",
       "    }\n",
       "\n",
       "    .dataframe thead th {\n",
       "        text-align: right;\n",
       "    }\n",
       "</style>\n",
       "<table border=\"1\" class=\"dataframe\">\n",
       "  <thead>\n",
       "    <tr style=\"text-align: right;\">\n",
       "      <th></th>\n",
       "      <th>A</th>\n",
       "      <th>B</th>\n",
       "      <th>C</th>\n",
       "      <th>D</th>\n",
       "    </tr>\n",
       "  </thead>\n",
       "  <tbody>\n",
       "    <tr>\n",
       "      <th>0</th>\n",
       "      <td>0.782874</td>\n",
       "      <td>0.669383</td>\n",
       "      <td>0.533698</td>\n",
       "      <td>0.787701</td>\n",
       "    </tr>\n",
       "    <tr>\n",
       "      <th>1</th>\n",
       "      <td>0.376484</td>\n",
       "      <td>0.429289</td>\n",
       "      <td>0.942749</td>\n",
       "      <td>0.569338</td>\n",
       "    </tr>\n",
       "    <tr>\n",
       "      <th>2</th>\n",
       "      <td>0.729226</td>\n",
       "      <td>0.100042</td>\n",
       "      <td>0.942182</td>\n",
       "      <td>0.893255</td>\n",
       "    </tr>\n",
       "    <tr>\n",
       "      <th>3</th>\n",
       "      <td>0.359902</td>\n",
       "      <td>0.047024</td>\n",
       "      <td>0.096471</td>\n",
       "      <td>0.766093</td>\n",
       "    </tr>\n",
       "    <tr>\n",
       "      <th>4</th>\n",
       "      <td>0.082408</td>\n",
       "      <td>0.376311</td>\n",
       "      <td>0.167680</td>\n",
       "      <td>0.626415</td>\n",
       "    </tr>\n",
       "  </tbody>\n",
       "</table>\n",
       "</div>"
      ],
      "text/plain": [
       "          A         B         C         D\n",
       "0  0.782874  0.669383  0.533698  0.787701\n",
       "1  0.376484  0.429289  0.942749  0.569338\n",
       "2  0.729226  0.100042  0.942182  0.893255\n",
       "3  0.359902  0.047024  0.096471  0.766093\n",
       "4  0.082408  0.376311  0.167680  0.626415"
      ]
     },
     "execution_count": 3,
     "metadata": {},
     "output_type": "execute_result"
    }
   ],
   "source": [
    "# in normal dataframe the indexing is normal like 0,1,2,3,.......\n",
    "df.head()"
   ]
  },
  {
   "cell_type": "code",
   "execution_count": 4,
   "metadata": {},
   "outputs": [
    {
     "data": {
      "text/html": [
       "<div>\n",
       "<style scoped>\n",
       "    .dataframe tbody tr th:only-of-type {\n",
       "        vertical-align: middle;\n",
       "    }\n",
       "\n",
       "    .dataframe tbody tr th {\n",
       "        vertical-align: top;\n",
       "    }\n",
       "\n",
       "    .dataframe thead th {\n",
       "        text-align: right;\n",
       "    }\n",
       "</style>\n",
       "<table border=\"1\" class=\"dataframe\">\n",
       "  <thead>\n",
       "    <tr style=\"text-align: right;\">\n",
       "      <th></th>\n",
       "      <th>A</th>\n",
       "      <th>B</th>\n",
       "      <th>C</th>\n",
       "      <th>D</th>\n",
       "    </tr>\n",
       "  </thead>\n",
       "  <tbody>\n",
       "    <tr>\n",
       "      <th>4176</th>\n",
       "      <td>0.638474</td>\n",
       "      <td>0.776925</td>\n",
       "      <td>0.346634</td>\n",
       "      <td>0.811623</td>\n",
       "    </tr>\n",
       "    <tr>\n",
       "      <th>659</th>\n",
       "      <td>0.286560</td>\n",
       "      <td>0.845645</td>\n",
       "      <td>0.029606</td>\n",
       "      <td>0.957845</td>\n",
       "    </tr>\n",
       "    <tr>\n",
       "      <th>2693</th>\n",
       "      <td>0.378330</td>\n",
       "      <td>0.320822</td>\n",
       "      <td>0.037712</td>\n",
       "      <td>0.420864</td>\n",
       "    </tr>\n",
       "    <tr>\n",
       "      <th>2521</th>\n",
       "      <td>0.167396</td>\n",
       "      <td>0.205410</td>\n",
       "      <td>0.898040</td>\n",
       "      <td>0.601663</td>\n",
       "    </tr>\n",
       "    <tr>\n",
       "      <th>315</th>\n",
       "      <td>0.370205</td>\n",
       "      <td>0.117774</td>\n",
       "      <td>0.861765</td>\n",
       "      <td>0.289090</td>\n",
       "    </tr>\n",
       "    <tr>\n",
       "      <th>4672</th>\n",
       "      <td>0.472213</td>\n",
       "      <td>0.681251</td>\n",
       "      <td>0.815891</td>\n",
       "      <td>0.255236</td>\n",
       "    </tr>\n",
       "    <tr>\n",
       "      <th>2754</th>\n",
       "      <td>0.070942</td>\n",
       "      <td>0.175095</td>\n",
       "      <td>0.021533</td>\n",
       "      <td>0.444972</td>\n",
       "    </tr>\n",
       "    <tr>\n",
       "      <th>4877</th>\n",
       "      <td>0.127820</td>\n",
       "      <td>0.687634</td>\n",
       "      <td>0.505585</td>\n",
       "      <td>0.884363</td>\n",
       "    </tr>\n",
       "    <tr>\n",
       "      <th>432</th>\n",
       "      <td>0.166952</td>\n",
       "      <td>0.945790</td>\n",
       "      <td>0.428464</td>\n",
       "      <td>0.370106</td>\n",
       "    </tr>\n",
       "    <tr>\n",
       "      <th>3659</th>\n",
       "      <td>0.884770</td>\n",
       "      <td>0.670146</td>\n",
       "      <td>0.535333</td>\n",
       "      <td>0.089485</td>\n",
       "    </tr>\n",
       "  </tbody>\n",
       "</table>\n",
       "</div>"
      ],
      "text/plain": [
       "             A         B         C         D\n",
       "4176  0.638474  0.776925  0.346634  0.811623\n",
       "659   0.286560  0.845645  0.029606  0.957845\n",
       "2693  0.378330  0.320822  0.037712  0.420864\n",
       "2521  0.167396  0.205410  0.898040  0.601663\n",
       "315   0.370205  0.117774  0.861765  0.289090\n",
       "4672  0.472213  0.681251  0.815891  0.255236\n",
       "2754  0.070942  0.175095  0.021533  0.444972\n",
       "4877  0.127820  0.687634  0.505585  0.884363\n",
       "432   0.166952  0.945790  0.428464  0.370106\n",
       "3659  0.884770  0.670146  0.535333  0.089485"
      ]
     },
     "execution_count": 4,
     "metadata": {},
     "output_type": "execute_result"
    }
   ],
   "source": [
    "# in sample dataframe randomly data has been choosen from whole data\n",
    "sample_df=df.sample(10)\n",
    "sample_df"
   ]
  },
  {
   "cell_type": "code",
   "execution_count": 5,
   "metadata": {},
   "outputs": [
    {
     "data": {
      "text/plain": [
       "(10, 4)"
      ]
     },
     "execution_count": 5,
     "metadata": {},
     "output_type": "execute_result"
    }
   ],
   "source": [
    "sample_df.shape"
   ]
  },
  {
   "cell_type": "markdown",
   "metadata": {},
   "source": [
    "### __2-Stratified sampling__\n",
    "- It is a type of sampling in which data is divided into small subgroups know as __strata__ "
   ]
  },
  {
   "cell_type": "code",
   "execution_count": 9,
   "metadata": {},
   "outputs": [
    {
     "data": {
      "text/plain": [
       "(120, 4)"
      ]
     },
     "execution_count": 9,
     "metadata": {},
     "output_type": "execute_result"
    }
   ],
   "source": [
    "from sklearn.datasets import load_iris\n",
    "from sklearn.model_selection import train_test_split\n",
    "X,y = load_iris(return_X_y=True)\n",
    "X_train , X_test , y_train , y_test = train_test_split(X,y, stratify=y , test_size=0.2)\n",
    "X_train.shape"
   ]
  },
  {
   "cell_type": "markdown",
   "metadata": {},
   "source": [
    "### __3-Reservoir sampling__\n",
    "- It is a type of sampling which select a family of randomized algorithms for randomly choosing k samples."
   ]
  },
  {
   "cell_type": "markdown",
   "metadata": {},
   "source": [
    "# __Undersampling and oversampling__"
   ]
  },
  {
   "cell_type": "code",
   "execution_count": 21,
   "metadata": {},
   "outputs": [],
   "source": [
    "from sklearn.datasets import make_classification\n",
    "X , y = make_classification( n_classes=2 , class_sep=1.5 , weights=[0.9,0.1] , \n",
    "                            n_informative = 3 , n_redundant=1 , flip_y=0, \n",
    "                            n_features=20 , n_clusters_per_class=1 , n_samples=100 , random_state=20)\n",
    "X=pd.DataFrame(X)\n",
    "X['target'] = y"
   ]
  },
  {
   "cell_type": "markdown",
   "metadata": {},
   "source": [
    "#### We can do random __undersampling__ and __oversampling__ :"
   ]
  },
  {
   "cell_type": "code",
   "execution_count": 37,
   "metadata": {},
   "outputs": [
    {
     "name": "stdout",
     "output_type": "stream",
     "text": [
      "90 10\n",
      "20\n",
      "180\n"
     ]
    }
   ],
   "source": [
    "num_0 = len(X[X['target']==0])\n",
    "num_1 = len(X[X['target']==1])\n",
    "print(num_0 , num_1)\n",
    "# Random Undersampling\n",
    "# in undersampling less one data is being doubling (10 IN OUR CASE)\n",
    "undersampled_data = pd.concat([ X[X['target']==0].sample(num_1) , X[X['target']==1] ] ) \n",
    "print(len(undersampled_data))\n",
    "# Random Overrsampling\n",
    "# in Overrsampling greater one data is being doubling (90 IN OUR CASE)\n",
    "oversampled_data = pd.concat([ X[X['target']==0] , X[X['target']==1].sample(num_0 , replace=True) ] ) \n",
    "print(len(oversampled_data))"
   ]
  },
  {
   "cell_type": "code",
   "execution_count": null,
   "metadata": {},
   "outputs": [],
   "source": []
  }
 ],
 "metadata": {
  "interpreter": {
   "hash": "acda11a18df8457a66539dabc7158352f8698b7cdb86e1c69fe6d1b93a3cec72"
  },
  "kernelspec": {
   "display_name": "Python 3.10.4 64-bit",
   "language": "python",
   "name": "python3"
  },
  "language_info": {
   "codemirror_mode": {
    "name": "ipython",
    "version": 3
   },
   "file_extension": ".py",
   "mimetype": "text/x-python",
   "name": "python",
   "nbconvert_exporter": "python",
   "pygments_lexer": "ipython3",
   "version": "3.10.4"
  },
  "orig_nbformat": 4
 },
 "nbformat": 4,
 "nbformat_minor": 2
}
