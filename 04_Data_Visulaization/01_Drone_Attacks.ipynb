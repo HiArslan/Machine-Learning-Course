{
 "cells": [
  {
   "cell_type": "code",
   "execution_count": 1,
   "metadata": {},
   "outputs": [],
   "source": [
    "import matplotlib.pyplot as plt \n",
    "import plotly.express as px \n",
    "import pandas as pd "
   ]
  },
  {
   "cell_type": "code",
   "execution_count": 2,
   "metadata": {},
   "outputs": [],
   "source": [
    "df = pd.read_csv('PakistanDroneAttacksWithTemp Ver 11 (November 30 2017).csv', encoding='latin1')"
   ]
  },
  {
   "cell_type": "code",
   "execution_count": 153,
   "metadata": {},
   "outputs": [],
   "source": [
    "# df = pd.concat([df1 , df2 , df3])"
   ]
  },
  {
   "cell_type": "code",
   "execution_count": 3,
   "metadata": {},
   "outputs": [],
   "source": [
    "df.drop(['S#'],axis=1,inplace=True)"
   ]
  },
  {
   "cell_type": "code",
   "execution_count": 4,
   "metadata": {},
   "outputs": [
    {
     "data": {
      "text/plain": [
       "Date                        1\n",
       "Time                      231\n",
       "Location                    2\n",
       "City                        1\n",
       "Province                    1\n",
       "No of Strike                1\n",
       "Al-Qaeda                  308\n",
       "Taliban                   264\n",
       "Civilians Min              69\n",
       "Civilians Max              46\n",
       "Foreigners Min            312\n",
       "Foreigners Max            265\n",
       "Total Died Min             97\n",
       "Total Died Max              3\n",
       "Injured Min               260\n",
       "Injured Max               129\n",
       "Women/Children             69\n",
       "Special Mention (Site)     75\n",
       "Comments                  229\n",
       "References                  7\n",
       "Longitude                   1\n",
       "Latitude                    1\n",
       "Temperature(C)              2\n",
       "Temperature(F)              2\n",
       "dtype: int64"
      ]
     },
     "execution_count": 4,
     "metadata": {},
     "output_type": "execute_result"
    }
   ],
   "source": [
    "df.isnull().sum()"
   ]
  },
  {
   "cell_type": "code",
   "execution_count": 5,
   "metadata": {},
   "outputs": [],
   "source": [
    "# df.dropna(subset=['Date', 'Time', 'Location', 'City', 'Province', 'No of Strike',\n",
    "#        'Al-Qaeda', 'Taliban', 'Civilians Min', 'Civilians Max',\n",
    "#        'Foreigners Min', 'Foreigners Max', 'Total Died Min', 'Total Died Mix',\n",
    "#        'Injured Min', 'Injured Max', 'Women/Children  ',\n",
    "#        'Special Mention (Site)', 'Comments', 'References', 'Longitude',\n",
    "#        'Latitude', 'Temperature(C)', 'Temperature(F)', 'Total Died Max'],inplace=True)\n",
    "df.dropna(subset=['City','Location','Injured Max','No of Strike','Province','Total Died Max','Injured Max'] , inplace=True)\n"
   ]
  },
  {
   "cell_type": "code",
   "execution_count": 6,
   "metadata": {},
   "outputs": [],
   "source": [
    "df['Date'] = df['Date'].str.strip()\n",
    "df['Date'] = df['Date'].str.replace(',', '-')"
   ]
  },
  {
   "cell_type": "code",
   "execution_count": 38,
   "metadata": {},
   "outputs": [
    {
     "data": {
      "application/vnd.plotly.v1+json": {
       "config": {
        "plotlyServerURL": "https://plot.ly"
       },
       "data": [
        {
         "hovertemplate": "City=North Waziristan<br>Date=%{x}<br>No of Strike=%{y}<extra></extra>",
         "legendgroup": "North Waziristan",
         "line": {
          "color": "#636efa",
          "dash": "solid"
         },
         "marker": {
          "symbol": "circle"
         },
         "mode": "lines",
         "name": "North Waziristan",
         "orientation": "v",
         "showlegend": true,
         "type": "scatter",
         "x": [
          "Thursday- December 01- 2005",
          "Friday- January 06- 2006",
          "Friday- April 27- 2007",
          "Tuesday- June 19- 2007",
          "Friday- November 02- 2007",
          "Tuesday- January 29- 2008",
          "Saturday- August 30- 2008",
          "Thursday- September 04- 2008",
          "Monday- September 08- 2008",
          "Friday- September 12- 2008",
          "Wednesday- October 01- 2008",
          "Friday- October 03- 2008",
          "Saturday- October 11- 2008",
          "Thursday- October 23- 2008",
          "Friday- October 31- 2008",
          "Friday- November 14- 2008",
          "Saturday- November 22- 2008",
          "Saturday- November 29- 2008",
          "Friday- December 05- 2008",
          "Monday- December 15- 2008",
          "Friday- January 23- 2009",
          "Thursday- March 26- 2009",
          "Saturday- April 04- 2009",
          "Saturday- May 16- 2009",
          "Thursday- October 15- 2009",
          "Thursday- November 05- 2009",
          "Wednesday- November 18- 2009",
          "Friday- November 20- 2009",
          "Tuesday- December 08- 2009",
          "Friday- December 18- 2009",
          "Friday- December 18- 2009",
          "Saturday- December 26- 2009",
          "Thursday- December 31- 2009",
          "Friday- January 01- 2010",
          "Sunday- January 03- 2010",
          "Wednesday- January 06- 2010",
          "Friday- January 08- 2010",
          "Saturday- January 09- 2010",
          "Tuesday- January 19- 2010",
          "Friday- January 29- 2010",
          "Tuesday- February 02- 2010",
          "Sunday- February 14- 2010",
          "Wednesday- February 17- 2010",
          "Wednesday- February 24- 2010",
          "Monday- March 08- 2010",
          "Wednesday- March 10- 2010",
          "Tuesday- March 16- 2010",
          "Tuesday- March 16- 2010",
          "Wednesday- March 17- 2010",
          "Sunday- March 21- 2010",
          "Tuesday- March 23- 2010",
          "Saturday- March 27- 2010",
          "Wednesday- April 14- 2010",
          "Friday- April 16- 2010",
          "Saturday- April 24- 2010",
          "Monday- April 26- 2010",
          "Monday- May 03- 2010",
          "Sunday- May 09- 2010",
          "Tuesday- May 11- 2010",
          "Tuesday- May 11- 2010",
          "Friday- June 11- 2010",
          "Saturday- June 19- 2010",
          "Saturday- June 26- 2010",
          "Sunday- June 27- 2010",
          "Sunday- July 25- 2010",
          "Saturday- August 14- 2010",
          "Monday- August 23- 2010",
          "Monday- August 23- 2010",
          "Friday- September 03- 2010",
          "Friday- September 03- 2010",
          "Monday- September 06- 2010",
          "Wednesday- September 08- 2010",
          "Wednesday- September 08- 2010",
          "Wednesday- September 08- 2010",
          "Thursday- September 09- 2010",
          "Sunday- September 12- 2010",
          "Tuesday- September 14- 2010",
          "Wednesday- September 15- 2010",
          "Sunday- September 19- 2010",
          "Monday- September 20- 2010",
          "Saturday- September 25- 2010",
          "Sunday- September 26- 2010",
          "Saturday- October 02- 2010",
          "Monday- October 04- 2010",
          "Wednesday- October 06- 2010",
          "Thursday- October 07- 2010",
          "Sunday- October 10- 2010",
          "Friday- October 15- 2010",
          "Friday- October 15- 2010",
          "Monday- October 18- 2010",
          "Wednesday- October 27- 2010",
          "Thursday- October 28- 2010",
          "Wednesday- November 03- 2010",
          "Thursday- November 11- 2010",
          "Tuesday- November 16- 2010",
          "Friday- November 19- 2010",
          "Sunday- November 21- 2010",
          "Monday- November 22- 2010",
          "Friday- November 26- 2010",
          "Monday- December 06- 2010",
          "Monday- December 27- 2010",
          "Tuesday- December 28- 2010",
          "Friday- December 31- 2010",
          "Saturday- January 01- 2011",
          "Saturday- January 01- 2011",
          "Friday- January 07- 2011",
          "Wednesday- January 12- 2011",
          "Tuesday- January 18- 2011",
          "Sunday- January 23- 2011",
          "Monday- February 21- 2011",
          "Tuesday- March 08- 2011",
          "Sunday- March 13- 2011",
          "Monday- March 14- 2011",
          "Wednesday- March 16- 2011",
          "Thursday- March 17- 2011",
          "Friday- April 22- 2011",
          "Friday- May 06- 2011",
          "Monday- June 27- 2011",
          "Tuesday- July 05- 2011",
          "Monday- July 11- 2011",
          "Friday- September 23- 2011",
          "Thursday- October 13- 2011",
          "Sunday- October 30- 2011",
          "Thursday- November 03- 2011",
          "Tuesday- November 15- 2011",
          "Sunday- October 30- 2011",
          "Monday- October 31- 2011",
          "Thursday- November 03- 2011",
          "Tuesday- November 15- 2011",
          "Thursday- November 17- 2011",
          "Thursday- January 12- 2012",
          "Friday- March 30- 2012",
          "Sunday- April 29- 2012",
          "Saturday- May 05- 2012",
          "Monday- June 04- 2012",
          "Thursday- June 14- 2012",
          "Tuesday- June 26- 2012",
          "Sunday- July 01- 2012",
          "Friday- July 06- 2012",
          "Friday- July 06- 2012",
          "Monday- July 23- 2012",
          "Sunday- July 29- 2012",
          "Saturday- August 18- 2012",
          "Sunday- August 19- 2012",
          "Sunday- August 19- 2012",
          "Tuesday- August 21- 2012",
          "Friday- August 24- 2012",
          "Friday- August 24- 2012",
          "Friday- August 24- 2012",
          "Saturday- September 01- 2012",
          "Saturday- September 22- 2012",
          "Monday- September 24- 2012",
          "Monday- October 01- 2012",
          "Wednesday- October 10- 2012",
          "Thursday- October 11- 2012",
          "Wednesday- October 24- 2012",
          "Thursday- November 29- 2012",
          "Thursday- December 06- 2012",
          "Sunday- December 09- 2012",
          "Friday- December 21- 2012",
          "Friday- December 28- 2012",
          "Tuesday- January 08- 2013",
          "Tuesday- January 08- 2013",
          "Thursday- January 10- 2013",
          "Wednesday- February 06- 2013",
          "Friday- February 08- 2013",
          "Thursday- March 21- 2013",
          "Sunday- April 14- 2013",
          "Wednesday- May 29- 2013",
          "Tuesday- July 02- 2013",
          "Saturday- July 13- 2013",
          "Friday- September 06- 2013",
          "Sunday- September 22- 2013",
          "Sunday- September 29- 2013",
          "Sunday- October 27- 2013",
          "Tuesday- October 29- 2013",
          "Thursday- November 28- 2013",
          "Wednesday- December 25- 2013",
          "Wednesday- June 11- 2014",
          "Wednesday- June 18- 2014",
          "Thursday- July 10- 2014",
          "Wednesday- July 16- 2014",
          "Saturday- July 19- 2014",
          "Wednesday- August 06- 2014",
          "Wednesday- September 24- 2014",
          "Tuesday- October 07- 2014",
          "Tuesday- October 07- 2014",
          "Tuesday- October 07- 2014",
          "Thursday- October 09- 2014",
          "Tuesday- November 11- 2014",
          "Thursday- November 20- 2014",
          "Saturday- December 20- 2014",
          "Saturday- January 03- 2015",
          "Monday- January 19- 2015",
          "Wednesday- January 28- 2015",
          "Saturday- May 16- 2015",
          "Monday- May 18- 2015",
          "Tuesday- September 01- 2015",
          "Friday- January 22- 2016",
          "Thursday- March 02- 2017",
          "Wednesday May 24- 2017"
         ],
         "xaxis": "x",
         "y": [
          1,
          1,
          1,
          3,
          1,
          1,
          1,
          1,
          4,
          1,
          1,
          2,
          2,
          1,
          1,
          1,
          1,
          1,
          1,
          1,
          1,
          1,
          2,
          1,
          1,
          1,
          1,
          1,
          2,
          1,
          1,
          1,
          2,
          2,
          2,
          1,
          1,
          1,
          1,
          3,
          1,
          1,
          1,
          1,
          1,
          1,
          1,
          1,
          1,
          1,
          1,
          1,
          1,
          1,
          1,
          1,
          1,
          1,
          1,
          1,
          1,
          1,
          1,
          1,
          1,
          1,
          1,
          1,
          1,
          1,
          1,
          1,
          1,
          1,
          1,
          1,
          1,
          1,
          1,
          1,
          1,
          1,
          1,
          1,
          1,
          1,
          1,
          1,
          1,
          1,
          1,
          1,
          1,
          1,
          1,
          1,
          1,
          1,
          1,
          1,
          6,
          1,
          1,
          1,
          1,
          1,
          1,
          1,
          1,
          1,
          1,
          1,
          1,
          1,
          1,
          1,
          1,
          1,
          1,
          1,
          1,
          1,
          1,
          1,
          1,
          1,
          1,
          1,
          1,
          1,
          1,
          3,
          1,
          1,
          1,
          2,
          1,
          1,
          6,
          1,
          8,
          6,
          2,
          1,
          1,
          1,
          1,
          1,
          1,
          4,
          1,
          2,
          4,
          4,
          4,
          2,
          1,
          2,
          4,
          2,
          8,
          8,
          4,
          4,
          4,
          2,
          1,
          2,
          2,
          4,
          2,
          2,
          4,
          2,
          1,
          1,
          2,
          2,
          8,
          6,
          2,
          4,
          1,
          1,
          4,
          2,
          3,
          1,
          1,
          1,
          2,
          2,
          1,
          2,
          2,
          2,
          2,
          1,
          4,
          1,
          1
         ],
         "yaxis": "y"
        },
        {
         "hovertemplate": "City=Bajaur  Agency<br>Date=%{x}<br>No of Strike=%{y}<extra></extra>",
         "legendgroup": "Bajaur  Agency",
         "line": {
          "color": "#EF553B",
          "dash": "solid"
         },
         "marker": {
          "symbol": "circle"
         },
         "mode": "lines",
         "name": "Bajaur  Agency",
         "orientation": "v",
         "showlegend": true,
         "type": "scatter",
         "x": [
          "Friday- January 13- 2006",
          "Saturday- October 24- 2009"
         ],
         "xaxis": "x",
         "y": [
          1,
          1
         ],
         "yaxis": "y"
        },
        {
         "hovertemplate": "City=south Waziristan<br>Date=%{x}<br>No of Strike=%{y}<extra></extra>",
         "legendgroup": "south Waziristan",
         "line": {
          "color": "#00cc96",
          "dash": "solid"
         },
         "marker": {
          "symbol": "circle"
         },
         "mode": "lines",
         "name": "south Waziristan",
         "orientation": "v",
         "showlegend": true,
         "type": "scatter",
         "x": [
          "Thursday- February 28- 2008",
          "Wednesday- August 20- 2008",
          "Friday- October 31- 2008"
         ],
         "xaxis": "x",
         "y": [
          1,
          1,
          1
         ],
         "yaxis": "y"
        },
        {
         "hovertemplate": "City=South Waziristan<br>Date=%{x}<br>No of Strike=%{y}<extra></extra>",
         "legendgroup": "South Waziristan",
         "line": {
          "color": "#ab63fa",
          "dash": "solid"
         },
         "marker": {
          "symbol": "circle"
         },
         "mode": "lines",
         "name": "South Waziristan",
         "orientation": "v",
         "showlegend": true,
         "type": "scatter",
         "x": [
          "Sunday- March 16- 2008",
          "Monday- July 28- 2008",
          "Thursday- October 16- 2008",
          "Thursday- January 01- 2009",
          "Friday- January 02- 2009",
          "Saturday- February 14- 2009",
          "Sunday- March 01- 2009",
          "Wednesday- April 08- 2009",
          "Sunday- April 19- 2009",
          "Wednesday- April 29- 2009",
          "Saturday- May 09- 2009",
          "Tuesday- May 12- 2009",
          "Thursday- June 18- 2009",
          "Friday- July 03- 2009",
          "Tuesday- July 07- 2009",
          "Wednesday- July 08- 2009",
          "Friday- July 17- 2009",
          "Wednesday- August 05- 2009",
          "Tuesday- August 11- 2009",
          "Friday- August 21- 2009",
          "Thursday- August 27- 2009",
          "Tuesday- September 08- 2009",
          "Monday- September 14- 2009",
          "Thursday- September 24- 2009",
          "Tuesday- September 29- 2009",
          "Tuesday- September 29- 2009",
          "Thursday- December 10- 2009",
          "Friday- May 28- 2010",
          "Sunday- July 25- 2010",
          "Sunday- July 25- 2010",
          "Tuesday- September 21- 2010",
          "Tuesday- September 21- 2010",
          "Tuesday- March 08- 2011",
          "Sunday- March 13- 2011",
          "Wednesday- April 13- 2011",
          "Tuesday- May 10- 2011",
          "Monday- June 06- 2011",
          "Monday- June 06- 2011",
          "Tuesday- September 27- 2011",
          "Thursday- October 27- 2011",
          "Wednesday- November 16- 2011",
          "Tuesday- March 13- 2012",
          "Sunday- June 03- 2012",
          "Saturday- December 01- 2012",
          "Wednesday- January 02- 2013",
          "Sunday- January 06- 2013",
          "Wednesday- April 17- 2013",
          "Sunday- September 28- 2014",
          "Sunday- October 05- 2014",
          "Monday- October 06- 2014",
          "Thursday- October 30- 2014",
          "Monday July 03- 2017"
         ],
         "xaxis": "x",
         "y": [
          6,
          1,
          1,
          1,
          2,
          1,
          2,
          1,
          1,
          1,
          1,
          1,
          1,
          1,
          1,
          1,
          1,
          1,
          1,
          1,
          1,
          1,
          1,
          1,
          1,
          1,
          1,
          1,
          1,
          1,
          1,
          1,
          1,
          1,
          1,
          1,
          1,
          1,
          1,
          1,
          1,
          1,
          1,
          3,
          1,
          1,
          2,
          1,
          4,
          1,
          1,
          2
         ],
         "yaxis": "y"
        },
        {
         "hovertemplate": "City=south waziristan<br>Date=%{x}<br>No of Strike=%{y}<extra></extra>",
         "legendgroup": "south waziristan",
         "line": {
          "color": "#FFA15A",
          "dash": "solid"
         },
         "marker": {
          "symbol": "circle"
         },
         "mode": "lines",
         "name": "south waziristan",
         "orientation": "v",
         "showlegend": true,
         "type": "scatter",
         "x": [
          "Saturday- August 30- 2008",
          "Wednesday- September 17- 2008"
         ],
         "xaxis": "x",
         "y": [
          1,
          1
         ],
         "yaxis": "y"
        },
        {
         "hovertemplate": "City=Bannu<br>Date=%{x}<br>No of Strike=%{y}<extra></extra>",
         "legendgroup": "Bannu",
         "line": {
          "color": "#19d3f3",
          "dash": "solid"
         },
         "marker": {
          "symbol": "circle"
         },
         "mode": "lines",
         "name": "Bannu",
         "orientation": "v",
         "showlegend": true,
         "type": "scatter",
         "x": [
          "Wednesday- November 19- 2008"
         ],
         "xaxis": "x",
         "y": [
          1
         ],
         "yaxis": "y"
        },
        {
         "hovertemplate": "City=Khyber<br>Date=%{x}<br>No of Strike=%{y}<extra></extra>",
         "legendgroup": "Khyber",
         "line": {
          "color": "#FF6692",
          "dash": "solid"
         },
         "marker": {
          "symbol": "circle"
         },
         "mode": "lines",
         "name": "Khyber",
         "orientation": "v",
         "showlegend": true,
         "type": "scatter",
         "x": [
          "Monday- February 16- 2009"
         ],
         "xaxis": "x",
         "y": [
          3
         ],
         "yaxis": "y"
        },
        {
         "hovertemplate": "City=Kurram Agency<br>Date=%{x}<br>No of Strike=%{y}<extra></extra>",
         "legendgroup": "Kurram Agency",
         "line": {
          "color": "#B6E880",
          "dash": "solid"
         },
         "marker": {
          "symbol": "circle"
         },
         "mode": "lines",
         "name": "Kurram Agency",
         "orientation": "v",
         "showlegend": true,
         "type": "scatter",
         "x": [
          "Thursday- March 12- 2009",
          "Friday September 15- 2017",
          "Thursday November 30-2017"
         ],
         "xaxis": "x",
         "y": [
          1,
          2,
          2
         ],
         "yaxis": "y"
        },
        {
         "hovertemplate": "City=Orakzai<br>Date=%{x}<br>No of Strike=%{y}<extra></extra>",
         "legendgroup": "Orakzai",
         "line": {
          "color": "#FF97FF",
          "dash": "solid"
         },
         "marker": {
          "symbol": "circle"
         },
         "mode": "lines",
         "name": "Orakzai",
         "orientation": "v",
         "showlegend": true,
         "type": "scatter",
         "x": [
          "Wednesday- April 01- 2009"
         ],
         "xaxis": "x",
         "y": [
          1
         ],
         "yaxis": "y"
        },
        {
         "hovertemplate": "City=South waziristan<br>Date=%{x}<br>No of Strike=%{y}<extra></extra>",
         "legendgroup": "South waziristan",
         "line": {
          "color": "#FECB52",
          "dash": "solid"
         },
         "marker": {
          "symbol": "circle"
         },
         "mode": "lines",
         "name": "South waziristan",
         "orientation": "v",
         "showlegend": true,
         "type": "scatter",
         "x": [
          "Thursday- January 14- 2010",
          "Friday- January 15- 2010"
         ],
         "xaxis": "x",
         "y": [
          1,
          1
         ],
         "yaxis": "y"
        },
        {
         "hovertemplate": "City=Khyber Agency<br>Date=%{x}<br>No of Strike=%{y}<extra></extra>",
         "legendgroup": "Khyber Agency",
         "line": {
          "color": "#636efa",
          "dash": "solid"
         },
         "marker": {
          "symbol": "circle"
         },
         "mode": "lines",
         "name": "Khyber Agency",
         "orientation": "v",
         "showlegend": true,
         "type": "scatter",
         "x": [
          "Saturday- May 15- 2010",
          "Saturday- December 14- 2013"
         ],
         "xaxis": "x",
         "y": [
          1,
          1
         ],
         "yaxis": "y"
        },
        {
         "hovertemplate": "City=Lower Kurram Agency<br>Date=%{x}<br>No of Strike=%{y}<extra></extra>",
         "legendgroup": "Lower Kurram Agency",
         "line": {
          "color": "#EF553B",
          "dash": "solid"
         },
         "marker": {
          "symbol": "circle"
         },
         "mode": "lines",
         "name": "Lower Kurram Agency",
         "orientation": "v",
         "showlegend": true,
         "type": "scatter",
         "x": [
          "Monday- June 20- 2011"
         ],
         "xaxis": "x",
         "y": [
          1
         ],
         "yaxis": "y"
        },
        {
         "hovertemplate": "City=Hungu<br>Date=%{x}<br>No of Strike=%{y}<extra></extra>",
         "legendgroup": "Hungu",
         "line": {
          "color": "#00cc96",
          "dash": "solid"
         },
         "marker": {
          "symbol": "circle"
         },
         "mode": "lines",
         "name": "Hungu",
         "orientation": "v",
         "showlegend": true,
         "type": "scatter",
         "x": [
          "Thursday- November 21- 2013"
         ],
         "xaxis": "x",
         "y": [
          4
         ],
         "yaxis": "y"
        },
        {
         "hovertemplate": "City=Dalbandin<br>Date=%{x}<br>No of Strike=%{y}<extra></extra>",
         "legendgroup": "Dalbandin",
         "line": {
          "color": "#ab63fa",
          "dash": "solid"
         },
         "marker": {
          "symbol": "circle"
         },
         "mode": "lines",
         "name": "Dalbandin",
         "orientation": "v",
         "showlegend": true,
         "type": "scatter",
         "x": [
          "Saturday- May 21- 2016"
         ],
         "xaxis": "x",
         "y": [
          1
         ],
         "yaxis": "y"
        },
        {
         "hovertemplate": "City=Hangu<br>Date=%{x}<br>No of Strike=%{y}<extra></extra>",
         "legendgroup": "Hangu",
         "line": {
          "color": "#FFA15A",
          "dash": "solid"
         },
         "marker": {
          "symbol": "circle"
         },
         "mode": "lines",
         "name": "Hangu",
         "orientation": "v",
         "showlegend": true,
         "type": "scatter",
         "x": [
          "Monday June 12- 2017"
         ],
         "xaxis": "x",
         "y": [
          1
         ],
         "yaxis": "y"
        }
       ],
       "layout": {
        "height": 800,
        "hovermode": "x unified",
        "legend": {
         "title": {
          "text": "City"
         },
         "tracegroupgap": 0
        },
        "template": {
         "data": {
          "bar": [
           {
            "error_x": {
             "color": "#f2f5fa"
            },
            "error_y": {
             "color": "#f2f5fa"
            },
            "marker": {
             "line": {
              "color": "rgb(17,17,17)",
              "width": 0.5
             },
             "pattern": {
              "fillmode": "overlay",
              "size": 10,
              "solidity": 0.2
             }
            },
            "type": "bar"
           }
          ],
          "barpolar": [
           {
            "marker": {
             "line": {
              "color": "rgb(17,17,17)",
              "width": 0.5
             },
             "pattern": {
              "fillmode": "overlay",
              "size": 10,
              "solidity": 0.2
             }
            },
            "type": "barpolar"
           }
          ],
          "carpet": [
           {
            "aaxis": {
             "endlinecolor": "#A2B1C6",
             "gridcolor": "#506784",
             "linecolor": "#506784",
             "minorgridcolor": "#506784",
             "startlinecolor": "#A2B1C6"
            },
            "baxis": {
             "endlinecolor": "#A2B1C6",
             "gridcolor": "#506784",
             "linecolor": "#506784",
             "minorgridcolor": "#506784",
             "startlinecolor": "#A2B1C6"
            },
            "type": "carpet"
           }
          ],
          "choropleth": [
           {
            "colorbar": {
             "outlinewidth": 0,
             "ticks": ""
            },
            "type": "choropleth"
           }
          ],
          "contour": [
           {
            "colorbar": {
             "outlinewidth": 0,
             "ticks": ""
            },
            "colorscale": [
             [
              0,
              "#0d0887"
             ],
             [
              0.1111111111111111,
              "#46039f"
             ],
             [
              0.2222222222222222,
              "#7201a8"
             ],
             [
              0.3333333333333333,
              "#9c179e"
             ],
             [
              0.4444444444444444,
              "#bd3786"
             ],
             [
              0.5555555555555556,
              "#d8576b"
             ],
             [
              0.6666666666666666,
              "#ed7953"
             ],
             [
              0.7777777777777778,
              "#fb9f3a"
             ],
             [
              0.8888888888888888,
              "#fdca26"
             ],
             [
              1,
              "#f0f921"
             ]
            ],
            "type": "contour"
           }
          ],
          "contourcarpet": [
           {
            "colorbar": {
             "outlinewidth": 0,
             "ticks": ""
            },
            "type": "contourcarpet"
           }
          ],
          "heatmap": [
           {
            "colorbar": {
             "outlinewidth": 0,
             "ticks": ""
            },
            "colorscale": [
             [
              0,
              "#0d0887"
             ],
             [
              0.1111111111111111,
              "#46039f"
             ],
             [
              0.2222222222222222,
              "#7201a8"
             ],
             [
              0.3333333333333333,
              "#9c179e"
             ],
             [
              0.4444444444444444,
              "#bd3786"
             ],
             [
              0.5555555555555556,
              "#d8576b"
             ],
             [
              0.6666666666666666,
              "#ed7953"
             ],
             [
              0.7777777777777778,
              "#fb9f3a"
             ],
             [
              0.8888888888888888,
              "#fdca26"
             ],
             [
              1,
              "#f0f921"
             ]
            ],
            "type": "heatmap"
           }
          ],
          "heatmapgl": [
           {
            "colorbar": {
             "outlinewidth": 0,
             "ticks": ""
            },
            "colorscale": [
             [
              0,
              "#0d0887"
             ],
             [
              0.1111111111111111,
              "#46039f"
             ],
             [
              0.2222222222222222,
              "#7201a8"
             ],
             [
              0.3333333333333333,
              "#9c179e"
             ],
             [
              0.4444444444444444,
              "#bd3786"
             ],
             [
              0.5555555555555556,
              "#d8576b"
             ],
             [
              0.6666666666666666,
              "#ed7953"
             ],
             [
              0.7777777777777778,
              "#fb9f3a"
             ],
             [
              0.8888888888888888,
              "#fdca26"
             ],
             [
              1,
              "#f0f921"
             ]
            ],
            "type": "heatmapgl"
           }
          ],
          "histogram": [
           {
            "marker": {
             "pattern": {
              "fillmode": "overlay",
              "size": 10,
              "solidity": 0.2
             }
            },
            "type": "histogram"
           }
          ],
          "histogram2d": [
           {
            "colorbar": {
             "outlinewidth": 0,
             "ticks": ""
            },
            "colorscale": [
             [
              0,
              "#0d0887"
             ],
             [
              0.1111111111111111,
              "#46039f"
             ],
             [
              0.2222222222222222,
              "#7201a8"
             ],
             [
              0.3333333333333333,
              "#9c179e"
             ],
             [
              0.4444444444444444,
              "#bd3786"
             ],
             [
              0.5555555555555556,
              "#d8576b"
             ],
             [
              0.6666666666666666,
              "#ed7953"
             ],
             [
              0.7777777777777778,
              "#fb9f3a"
             ],
             [
              0.8888888888888888,
              "#fdca26"
             ],
             [
              1,
              "#f0f921"
             ]
            ],
            "type": "histogram2d"
           }
          ],
          "histogram2dcontour": [
           {
            "colorbar": {
             "outlinewidth": 0,
             "ticks": ""
            },
            "colorscale": [
             [
              0,
              "#0d0887"
             ],
             [
              0.1111111111111111,
              "#46039f"
             ],
             [
              0.2222222222222222,
              "#7201a8"
             ],
             [
              0.3333333333333333,
              "#9c179e"
             ],
             [
              0.4444444444444444,
              "#bd3786"
             ],
             [
              0.5555555555555556,
              "#d8576b"
             ],
             [
              0.6666666666666666,
              "#ed7953"
             ],
             [
              0.7777777777777778,
              "#fb9f3a"
             ],
             [
              0.8888888888888888,
              "#fdca26"
             ],
             [
              1,
              "#f0f921"
             ]
            ],
            "type": "histogram2dcontour"
           }
          ],
          "mesh3d": [
           {
            "colorbar": {
             "outlinewidth": 0,
             "ticks": ""
            },
            "type": "mesh3d"
           }
          ],
          "parcoords": [
           {
            "line": {
             "colorbar": {
              "outlinewidth": 0,
              "ticks": ""
             }
            },
            "type": "parcoords"
           }
          ],
          "pie": [
           {
            "automargin": true,
            "type": "pie"
           }
          ],
          "scatter": [
           {
            "marker": {
             "line": {
              "color": "#283442"
             }
            },
            "type": "scatter"
           }
          ],
          "scatter3d": [
           {
            "line": {
             "colorbar": {
              "outlinewidth": 0,
              "ticks": ""
             }
            },
            "marker": {
             "colorbar": {
              "outlinewidth": 0,
              "ticks": ""
             }
            },
            "type": "scatter3d"
           }
          ],
          "scattercarpet": [
           {
            "marker": {
             "colorbar": {
              "outlinewidth": 0,
              "ticks": ""
             }
            },
            "type": "scattercarpet"
           }
          ],
          "scattergeo": [
           {
            "marker": {
             "colorbar": {
              "outlinewidth": 0,
              "ticks": ""
             }
            },
            "type": "scattergeo"
           }
          ],
          "scattergl": [
           {
            "marker": {
             "line": {
              "color": "#283442"
             }
            },
            "type": "scattergl"
           }
          ],
          "scattermapbox": [
           {
            "marker": {
             "colorbar": {
              "outlinewidth": 0,
              "ticks": ""
             }
            },
            "type": "scattermapbox"
           }
          ],
          "scatterpolar": [
           {
            "marker": {
             "colorbar": {
              "outlinewidth": 0,
              "ticks": ""
             }
            },
            "type": "scatterpolar"
           }
          ],
          "scatterpolargl": [
           {
            "marker": {
             "colorbar": {
              "outlinewidth": 0,
              "ticks": ""
             }
            },
            "type": "scatterpolargl"
           }
          ],
          "scatterternary": [
           {
            "marker": {
             "colorbar": {
              "outlinewidth": 0,
              "ticks": ""
             }
            },
            "type": "scatterternary"
           }
          ],
          "surface": [
           {
            "colorbar": {
             "outlinewidth": 0,
             "ticks": ""
            },
            "colorscale": [
             [
              0,
              "#0d0887"
             ],
             [
              0.1111111111111111,
              "#46039f"
             ],
             [
              0.2222222222222222,
              "#7201a8"
             ],
             [
              0.3333333333333333,
              "#9c179e"
             ],
             [
              0.4444444444444444,
              "#bd3786"
             ],
             [
              0.5555555555555556,
              "#d8576b"
             ],
             [
              0.6666666666666666,
              "#ed7953"
             ],
             [
              0.7777777777777778,
              "#fb9f3a"
             ],
             [
              0.8888888888888888,
              "#fdca26"
             ],
             [
              1,
              "#f0f921"
             ]
            ],
            "type": "surface"
           }
          ],
          "table": [
           {
            "cells": {
             "fill": {
              "color": "#506784"
             },
             "line": {
              "color": "rgb(17,17,17)"
             }
            },
            "header": {
             "fill": {
              "color": "#2a3f5f"
             },
             "line": {
              "color": "rgb(17,17,17)"
             }
            },
            "type": "table"
           }
          ]
         },
         "layout": {
          "annotationdefaults": {
           "arrowcolor": "#f2f5fa",
           "arrowhead": 0,
           "arrowwidth": 1
          },
          "autotypenumbers": "strict",
          "coloraxis": {
           "colorbar": {
            "outlinewidth": 0,
            "ticks": ""
           }
          },
          "colorscale": {
           "diverging": [
            [
             0,
             "#8e0152"
            ],
            [
             0.1,
             "#c51b7d"
            ],
            [
             0.2,
             "#de77ae"
            ],
            [
             0.3,
             "#f1b6da"
            ],
            [
             0.4,
             "#fde0ef"
            ],
            [
             0.5,
             "#f7f7f7"
            ],
            [
             0.6,
             "#e6f5d0"
            ],
            [
             0.7,
             "#b8e186"
            ],
            [
             0.8,
             "#7fbc41"
            ],
            [
             0.9,
             "#4d9221"
            ],
            [
             1,
             "#276419"
            ]
           ],
           "sequential": [
            [
             0,
             "#0d0887"
            ],
            [
             0.1111111111111111,
             "#46039f"
            ],
            [
             0.2222222222222222,
             "#7201a8"
            ],
            [
             0.3333333333333333,
             "#9c179e"
            ],
            [
             0.4444444444444444,
             "#bd3786"
            ],
            [
             0.5555555555555556,
             "#d8576b"
            ],
            [
             0.6666666666666666,
             "#ed7953"
            ],
            [
             0.7777777777777778,
             "#fb9f3a"
            ],
            [
             0.8888888888888888,
             "#fdca26"
            ],
            [
             1,
             "#f0f921"
            ]
           ],
           "sequentialminus": [
            [
             0,
             "#0d0887"
            ],
            [
             0.1111111111111111,
             "#46039f"
            ],
            [
             0.2222222222222222,
             "#7201a8"
            ],
            [
             0.3333333333333333,
             "#9c179e"
            ],
            [
             0.4444444444444444,
             "#bd3786"
            ],
            [
             0.5555555555555556,
             "#d8576b"
            ],
            [
             0.6666666666666666,
             "#ed7953"
            ],
            [
             0.7777777777777778,
             "#fb9f3a"
            ],
            [
             0.8888888888888888,
             "#fdca26"
            ],
            [
             1,
             "#f0f921"
            ]
           ]
          },
          "colorway": [
           "#636efa",
           "#EF553B",
           "#00cc96",
           "#ab63fa",
           "#FFA15A",
           "#19d3f3",
           "#FF6692",
           "#B6E880",
           "#FF97FF",
           "#FECB52"
          ],
          "font": {
           "color": "#f2f5fa"
          },
          "geo": {
           "bgcolor": "rgb(17,17,17)",
           "lakecolor": "rgb(17,17,17)",
           "landcolor": "rgb(17,17,17)",
           "showlakes": true,
           "showland": true,
           "subunitcolor": "#506784"
          },
          "hoverlabel": {
           "align": "left"
          },
          "hovermode": "closest",
          "mapbox": {
           "style": "dark"
          },
          "paper_bgcolor": "rgb(17,17,17)",
          "plot_bgcolor": "rgb(17,17,17)",
          "polar": {
           "angularaxis": {
            "gridcolor": "#506784",
            "linecolor": "#506784",
            "ticks": ""
           },
           "bgcolor": "rgb(17,17,17)",
           "radialaxis": {
            "gridcolor": "#506784",
            "linecolor": "#506784",
            "ticks": ""
           }
          },
          "scene": {
           "xaxis": {
            "backgroundcolor": "rgb(17,17,17)",
            "gridcolor": "#506784",
            "gridwidth": 2,
            "linecolor": "#506784",
            "showbackground": true,
            "ticks": "",
            "zerolinecolor": "#C8D4E3"
           },
           "yaxis": {
            "backgroundcolor": "rgb(17,17,17)",
            "gridcolor": "#506784",
            "gridwidth": 2,
            "linecolor": "#506784",
            "showbackground": true,
            "ticks": "",
            "zerolinecolor": "#C8D4E3"
           },
           "zaxis": {
            "backgroundcolor": "rgb(17,17,17)",
            "gridcolor": "#506784",
            "gridwidth": 2,
            "linecolor": "#506784",
            "showbackground": true,
            "ticks": "",
            "zerolinecolor": "#C8D4E3"
           }
          },
          "shapedefaults": {
           "line": {
            "color": "#f2f5fa"
           }
          },
          "sliderdefaults": {
           "bgcolor": "#C8D4E3",
           "bordercolor": "rgb(17,17,17)",
           "borderwidth": 1,
           "tickwidth": 0
          },
          "ternary": {
           "aaxis": {
            "gridcolor": "#506784",
            "linecolor": "#506784",
            "ticks": ""
           },
           "baxis": {
            "gridcolor": "#506784",
            "linecolor": "#506784",
            "ticks": ""
           },
           "bgcolor": "rgb(17,17,17)",
           "caxis": {
            "gridcolor": "#506784",
            "linecolor": "#506784",
            "ticks": ""
           }
          },
          "title": {
           "x": 0.05
          },
          "updatemenudefaults": {
           "bgcolor": "#506784",
           "borderwidth": 0
          },
          "xaxis": {
           "automargin": true,
           "gridcolor": "#283442",
           "linecolor": "#506784",
           "ticks": "",
           "title": {
            "standoff": 15
           },
           "zerolinecolor": "#283442",
           "zerolinewidth": 2
          },
          "yaxis": {
           "automargin": true,
           "gridcolor": "#283442",
           "linecolor": "#506784",
           "ticks": "",
           "title": {
            "standoff": 15
           },
           "zerolinecolor": "#283442",
           "zerolinewidth": 2
          }
         }
        },
        "title": {
         "text": "NO OF STRIKES IN PAKISTAN DIFFERENT CIITES WITH RESPECT TO DIFFERENT DATES"
        },
        "updatemenus": [
         {
          "buttons": [
           {
            "args": [
             {
              "yaxis.type": "linear"
             }
            ],
            "label": "LINEAR",
            "method": "relayout"
           },
           {
            "args": [
             {
              "yaxis.type": "log"
             }
            ],
            "label": "LOG",
            "method": "relayout"
           }
          ],
          "direction": "left",
          "type": "buttons"
         }
        ],
        "width": 1200,
        "xaxis": {
         "anchor": "y",
         "domain": [
          0,
          1
         ],
         "title": {
          "text": "Date"
         }
        },
        "yaxis": {
         "anchor": "x",
         "domain": [
          0,
          1
         ],
         "title": {
          "text": "No of Strike"
         }
        }
       }
      }
     },
     "metadata": {},
     "output_type": "display_data"
    }
   ],
   "source": [
    "# px.line(df , x='Date', y='No of Strike' ,color=\"City\" ,height=700,width=900)\n",
    "fig = px.line(df, x=\"Date\", y=\"No of Strike\", color=\"City\" , height=800,width=1200 , template='plotly_dark',\n",
    "title= \"NO OF STRIKES IN PAKISTAN DIFFERENT CIITES WITH RESPECT TO DIFFERENT DATES\")\n",
    " \n",
    "fig.update_layout(\n",
    "    hovermode='x unified',\n",
    "    updatemenus=[\n",
    "        dict(\n",
    "            type = \"buttons\",\n",
    "            direction = \"left\",\n",
    "            buttons=list([\n",
    "                dict(\n",
    "                    args=[{\"yaxis.type\": \"linear\"}],\n",
    "                    label=\"LINEAR\",\n",
    "                    method=\"relayout\"\n",
    "                ),\n",
    "                dict(\n",
    "                    args=[{\"yaxis.type\": \"log\"}],\n",
    "                    label=\"LOG\",\n",
    "                    method=\"relayout\"\n",
    "                )\n",
    "            ]),\n",
    "        ),\n",
    "    ]\n",
    ")\n",
    "fig.show()"
   ]
  },
  {
   "cell_type": "code",
   "execution_count": 8,
   "metadata": {},
   "outputs": [
    {
     "data": {
      "text/plain": [
       "Index(['Date', 'Time', 'Location', 'City', 'Province', 'No of Strike',\n",
       "       'Al-Qaeda', 'Taliban', 'Civilians Min', 'Civilians Max',\n",
       "       'Foreigners Min', 'Foreigners Max', 'Total Died Min', 'Total Died Max',\n",
       "       'Injured Min', 'Injured Max', 'Women/Children  ',\n",
       "       'Special Mention (Site)', 'Comments', 'References', 'Longitude',\n",
       "       'Latitude', 'Temperature(C)', 'Temperature(F)'],\n",
       "      dtype='object')"
      ]
     },
     "execution_count": 8,
     "metadata": {},
     "output_type": "execute_result"
    }
   ],
   "source": [
    "df.columns"
   ]
  },
  {
   "cell_type": "code",
   "execution_count": null,
   "metadata": {},
   "outputs": [],
   "source": [
    "df1 = df[df['Total Died Max'].astype(str) > '70'] # '60' , 70\n",
    "df1"
   ]
  },
  {
   "cell_type": "code",
   "execution_count": 14,
   "metadata": {},
   "outputs": [
    {
     "data": {
      "application/vnd.plotly.v1+json": {
       "config": {
        "plotlyServerURL": "https://plot.ly"
       },
       "data": [
        {
         "customdata": [
          [
           "Zari Noori area"
          ],
          [
           "Miranshah"
          ],
          [
           "Shah Alam- Wana"
          ],
          [
           "Mir Ali "
          ],
          [
           "mir ali"
          ],
          [
           "Datta Khel"
          ],
          [
           "Datta Khel"
          ],
          [
           "Darga Mandi"
          ],
          [
           "Datta Khel"
          ],
          [
           "miran shah"
          ],
          [
           "Khushali Toorikhel"
          ],
          [
           "MiranShah"
          ],
          [
           "Datta Khel"
          ],
          [
           "Khund"
          ],
          [
           "Mir Ali"
          ],
          [
           "Shewa istrict- spinwan tehsil"
          ],
          [
           "Gulli khel in Ghulam Khan "
          ],
          [
           "Khadi village"
          ],
          [
           "Madi Khel"
          ],
          [
           "Shalam Raghzai 10 km northwest of wana"
          ],
          [
           "Ghalmandi Panga- Bray Nishtar area near the border with Afghanistan and North Waziristan"
          ],
          [
           "Ramzak area"
          ],
          [
           "Birmal area of South Waziristan"
          ],
          [
           "Shawal District- 50km Southwest of Miranshah"
          ],
          [
           "Darra Nishtar- Shawal Area"
          ],
          [
           "Haider Khel Village- 25km East of Miranshah"
          ],
          [
           "Bobar Gar area- 50km south of Miranshah"
          ],
          [
           "Tehsil Tal's main Tal bazaar"
          ],
          [
           "Bari Mail area of Shawal district"
          ],
          [
           "Datta Khel area"
          ],
          [
           "Shawal valley "
          ]
         ],
         "domain": {
          "x": [
           0,
           1
          ],
          "y": [
           0,
           1
          ]
         },
         "hole": 0.5,
         "hovertemplate": "<b>%{hovertext}</b><br><br>Location=%{customdata[0]}<br>Total Died Max=%{value}<extra></extra>",
         "hovertext": [
          3,
          2,
          8,
          6,
          5,
          8,
          8,
          6,
          4,
          8,
          10,
          8,
          4,
          4,
          2,
          5,
          6,
          4,
          5,
          2,
          2,
          4,
          2,
          0,
          14,
          4,
          6,
          8,
          8,
          4,
          2
         ],
         "labels": [
          "Zari Noori area",
          "Miranshah",
          "Shah Alam- Wana",
          "Mir Ali ",
          "mir ali",
          "Datta Khel",
          "Datta Khel",
          "Darga Mandi",
          "Datta Khel",
          "miran shah",
          "Khushali Toorikhel",
          "MiranShah",
          "Datta Khel",
          "Khund",
          "Mir Ali",
          "Shewa istrict- spinwan tehsil",
          "Gulli khel in Ghulam Khan ",
          "Khadi village",
          "Madi Khel",
          "Shalam Raghzai 10 km northwest of wana",
          "Ghalmandi Panga- Bray Nishtar area near the border with Afghanistan and North Waziristan",
          "Ramzak area",
          "Birmal area of South Waziristan",
          "Shawal District- 50km Southwest of Miranshah",
          "Darra Nishtar- Shawal Area",
          "Haider Khel Village- 25km East of Miranshah",
          "Bobar Gar area- 50km south of Miranshah",
          "Tehsil Tal's main Tal bazaar",
          "Bari Mail area of Shawal district",
          "Datta Khel area",
          "Shawal valley "
         ],
         "legendgroup": "",
         "marker": {
          "colors": [
           "red",
           "green",
           "blue",
           "orange",
           "#2F4F4F",
           "yellow",
           "yellow",
           "#4287f5",
           "yellow",
           "#42cef5",
           "#42ecf5",
           "#8d42f5",
           "yellow",
           "#cb42f5",
           "#f542d7",
           "#f5426f",
           "#42f563",
           "#cbf542",
           "#69f542",
           "red",
           "green",
           "blue",
           "orange",
           "#2F4F4F",
           "yellow",
           "#4287f5",
           "#42cef5",
           "#42ecf5",
           "#8d42f5",
           "#cb42f5",
           "#f542d7"
          ]
         },
         "name": "",
         "showlegend": true,
         "type": "pie",
         "values": [
          8,
          9,
          9,
          8,
          8,
          8,
          8,
          9,
          8,
          9,
          9,
          9,
          9,
          8,
          9,
          8,
          8,
          9,
          9,
          8,
          8,
          9,
          8,
          8,
          8,
          8,
          9,
          8,
          8,
          8,
          8
         ]
        }
       ],
       "layout": {
        "height": 750,
        "legend": {
         "tracegroupgap": 0
        },
        "piecolorway": [
         "red",
         "green",
         "blue",
         "orange",
         "#2F4F4F",
         "yellow",
         "#4287f5",
         "#42cef5",
         "#42ecf5",
         "#8d42f5",
         "#cb42f5",
         "#f542d7",
         "#f5426f",
         "#42f563",
         "#cbf542",
         "#69f542"
        ],
        "template": {
         "data": {
          "bar": [
           {
            "error_x": {
             "color": "rgb(51,51,51)"
            },
            "error_y": {
             "color": "rgb(51,51,51)"
            },
            "marker": {
             "line": {
              "color": "rgb(237,237,237)",
              "width": 0.5
             },
             "pattern": {
              "fillmode": "overlay",
              "size": 10,
              "solidity": 0.2
             }
            },
            "type": "bar"
           }
          ],
          "barpolar": [
           {
            "marker": {
             "line": {
              "color": "rgb(237,237,237)",
              "width": 0.5
             },
             "pattern": {
              "fillmode": "overlay",
              "size": 10,
              "solidity": 0.2
             }
            },
            "type": "barpolar"
           }
          ],
          "carpet": [
           {
            "aaxis": {
             "endlinecolor": "rgb(51,51,51)",
             "gridcolor": "white",
             "linecolor": "white",
             "minorgridcolor": "white",
             "startlinecolor": "rgb(51,51,51)"
            },
            "baxis": {
             "endlinecolor": "rgb(51,51,51)",
             "gridcolor": "white",
             "linecolor": "white",
             "minorgridcolor": "white",
             "startlinecolor": "rgb(51,51,51)"
            },
            "type": "carpet"
           }
          ],
          "choropleth": [
           {
            "colorbar": {
             "outlinewidth": 0,
             "tickcolor": "rgb(237,237,237)",
             "ticklen": 6,
             "ticks": "inside"
            },
            "type": "choropleth"
           }
          ],
          "contour": [
           {
            "colorbar": {
             "outlinewidth": 0,
             "tickcolor": "rgb(237,237,237)",
             "ticklen": 6,
             "ticks": "inside"
            },
            "colorscale": [
             [
              0,
              "rgb(20,44,66)"
             ],
             [
              1,
              "rgb(90,179,244)"
             ]
            ],
            "type": "contour"
           }
          ],
          "contourcarpet": [
           {
            "colorbar": {
             "outlinewidth": 0,
             "tickcolor": "rgb(237,237,237)",
             "ticklen": 6,
             "ticks": "inside"
            },
            "type": "contourcarpet"
           }
          ],
          "heatmap": [
           {
            "colorbar": {
             "outlinewidth": 0,
             "tickcolor": "rgb(237,237,237)",
             "ticklen": 6,
             "ticks": "inside"
            },
            "colorscale": [
             [
              0,
              "rgb(20,44,66)"
             ],
             [
              1,
              "rgb(90,179,244)"
             ]
            ],
            "type": "heatmap"
           }
          ],
          "heatmapgl": [
           {
            "colorbar": {
             "outlinewidth": 0,
             "tickcolor": "rgb(237,237,237)",
             "ticklen": 6,
             "ticks": "inside"
            },
            "colorscale": [
             [
              0,
              "rgb(20,44,66)"
             ],
             [
              1,
              "rgb(90,179,244)"
             ]
            ],
            "type": "heatmapgl"
           }
          ],
          "histogram": [
           {
            "marker": {
             "pattern": {
              "fillmode": "overlay",
              "size": 10,
              "solidity": 0.2
             }
            },
            "type": "histogram"
           }
          ],
          "histogram2d": [
           {
            "colorbar": {
             "outlinewidth": 0,
             "tickcolor": "rgb(237,237,237)",
             "ticklen": 6,
             "ticks": "inside"
            },
            "colorscale": [
             [
              0,
              "rgb(20,44,66)"
             ],
             [
              1,
              "rgb(90,179,244)"
             ]
            ],
            "type": "histogram2d"
           }
          ],
          "histogram2dcontour": [
           {
            "colorbar": {
             "outlinewidth": 0,
             "tickcolor": "rgb(237,237,237)",
             "ticklen": 6,
             "ticks": "inside"
            },
            "colorscale": [
             [
              0,
              "rgb(20,44,66)"
             ],
             [
              1,
              "rgb(90,179,244)"
             ]
            ],
            "type": "histogram2dcontour"
           }
          ],
          "mesh3d": [
           {
            "colorbar": {
             "outlinewidth": 0,
             "tickcolor": "rgb(237,237,237)",
             "ticklen": 6,
             "ticks": "inside"
            },
            "type": "mesh3d"
           }
          ],
          "parcoords": [
           {
            "line": {
             "colorbar": {
              "outlinewidth": 0,
              "tickcolor": "rgb(237,237,237)",
              "ticklen": 6,
              "ticks": "inside"
             }
            },
            "type": "parcoords"
           }
          ],
          "pie": [
           {
            "automargin": true,
            "type": "pie"
           }
          ],
          "scatter": [
           {
            "fillpattern": {
             "fillmode": "overlay",
             "size": 10,
             "solidity": 0.2
            },
            "type": "scatter"
           }
          ],
          "scatter3d": [
           {
            "line": {
             "colorbar": {
              "outlinewidth": 0,
              "tickcolor": "rgb(237,237,237)",
              "ticklen": 6,
              "ticks": "inside"
             }
            },
            "marker": {
             "colorbar": {
              "outlinewidth": 0,
              "tickcolor": "rgb(237,237,237)",
              "ticklen": 6,
              "ticks": "inside"
             }
            },
            "type": "scatter3d"
           }
          ],
          "scattercarpet": [
           {
            "marker": {
             "colorbar": {
              "outlinewidth": 0,
              "tickcolor": "rgb(237,237,237)",
              "ticklen": 6,
              "ticks": "inside"
             }
            },
            "type": "scattercarpet"
           }
          ],
          "scattergeo": [
           {
            "marker": {
             "colorbar": {
              "outlinewidth": 0,
              "tickcolor": "rgb(237,237,237)",
              "ticklen": 6,
              "ticks": "inside"
             }
            },
            "type": "scattergeo"
           }
          ],
          "scattergl": [
           {
            "marker": {
             "colorbar": {
              "outlinewidth": 0,
              "tickcolor": "rgb(237,237,237)",
              "ticklen": 6,
              "ticks": "inside"
             }
            },
            "type": "scattergl"
           }
          ],
          "scattermapbox": [
           {
            "marker": {
             "colorbar": {
              "outlinewidth": 0,
              "tickcolor": "rgb(237,237,237)",
              "ticklen": 6,
              "ticks": "inside"
             }
            },
            "type": "scattermapbox"
           }
          ],
          "scatterpolar": [
           {
            "marker": {
             "colorbar": {
              "outlinewidth": 0,
              "tickcolor": "rgb(237,237,237)",
              "ticklen": 6,
              "ticks": "inside"
             }
            },
            "type": "scatterpolar"
           }
          ],
          "scatterpolargl": [
           {
            "marker": {
             "colorbar": {
              "outlinewidth": 0,
              "tickcolor": "rgb(237,237,237)",
              "ticklen": 6,
              "ticks": "inside"
             }
            },
            "type": "scatterpolargl"
           }
          ],
          "scatterternary": [
           {
            "marker": {
             "colorbar": {
              "outlinewidth": 0,
              "tickcolor": "rgb(237,237,237)",
              "ticklen": 6,
              "ticks": "inside"
             }
            },
            "type": "scatterternary"
           }
          ],
          "surface": [
           {
            "colorbar": {
             "outlinewidth": 0,
             "tickcolor": "rgb(237,237,237)",
             "ticklen": 6,
             "ticks": "inside"
            },
            "colorscale": [
             [
              0,
              "rgb(20,44,66)"
             ],
             [
              1,
              "rgb(90,179,244)"
             ]
            ],
            "type": "surface"
           }
          ],
          "table": [
           {
            "cells": {
             "fill": {
              "color": "rgb(237,237,237)"
             },
             "line": {
              "color": "white"
             }
            },
            "header": {
             "fill": {
              "color": "rgb(217,217,217)"
             },
             "line": {
              "color": "white"
             }
            },
            "type": "table"
           }
          ]
         },
         "layout": {
          "annotationdefaults": {
           "arrowhead": 0,
           "arrowwidth": 1
          },
          "autotypenumbers": "strict",
          "coloraxis": {
           "colorbar": {
            "outlinewidth": 0,
            "tickcolor": "rgb(237,237,237)",
            "ticklen": 6,
            "ticks": "inside"
           }
          },
          "colorscale": {
           "sequential": [
            [
             0,
             "rgb(20,44,66)"
            ],
            [
             1,
             "rgb(90,179,244)"
            ]
           ],
           "sequentialminus": [
            [
             0,
             "rgb(20,44,66)"
            ],
            [
             1,
             "rgb(90,179,244)"
            ]
           ]
          },
          "colorway": [
           "#F8766D",
           "#A3A500",
           "#00BF7D",
           "#00B0F6",
           "#E76BF3"
          ],
          "font": {
           "color": "rgb(51,51,51)"
          },
          "geo": {
           "bgcolor": "white",
           "lakecolor": "white",
           "landcolor": "rgb(237,237,237)",
           "showlakes": true,
           "showland": true,
           "subunitcolor": "white"
          },
          "hoverlabel": {
           "align": "left"
          },
          "hovermode": "closest",
          "paper_bgcolor": "white",
          "plot_bgcolor": "rgb(237,237,237)",
          "polar": {
           "angularaxis": {
            "gridcolor": "white",
            "linecolor": "white",
            "showgrid": true,
            "tickcolor": "rgb(51,51,51)",
            "ticks": "outside"
           },
           "bgcolor": "rgb(237,237,237)",
           "radialaxis": {
            "gridcolor": "white",
            "linecolor": "white",
            "showgrid": true,
            "tickcolor": "rgb(51,51,51)",
            "ticks": "outside"
           }
          },
          "scene": {
           "xaxis": {
            "backgroundcolor": "rgb(237,237,237)",
            "gridcolor": "white",
            "gridwidth": 2,
            "linecolor": "white",
            "showbackground": true,
            "showgrid": true,
            "tickcolor": "rgb(51,51,51)",
            "ticks": "outside",
            "zerolinecolor": "white"
           },
           "yaxis": {
            "backgroundcolor": "rgb(237,237,237)",
            "gridcolor": "white",
            "gridwidth": 2,
            "linecolor": "white",
            "showbackground": true,
            "showgrid": true,
            "tickcolor": "rgb(51,51,51)",
            "ticks": "outside",
            "zerolinecolor": "white"
           },
           "zaxis": {
            "backgroundcolor": "rgb(237,237,237)",
            "gridcolor": "white",
            "gridwidth": 2,
            "linecolor": "white",
            "showbackground": true,
            "showgrid": true,
            "tickcolor": "rgb(51,51,51)",
            "ticks": "outside",
            "zerolinecolor": "white"
           }
          },
          "shapedefaults": {
           "fillcolor": "black",
           "line": {
            "width": 0
           },
           "opacity": 0.3
          },
          "ternary": {
           "aaxis": {
            "gridcolor": "white",
            "linecolor": "white",
            "showgrid": true,
            "tickcolor": "rgb(51,51,51)",
            "ticks": "outside"
           },
           "baxis": {
            "gridcolor": "white",
            "linecolor": "white",
            "showgrid": true,
            "tickcolor": "rgb(51,51,51)",
            "ticks": "outside"
           },
           "bgcolor": "rgb(237,237,237)",
           "caxis": {
            "gridcolor": "white",
            "linecolor": "white",
            "showgrid": true,
            "tickcolor": "rgb(51,51,51)",
            "ticks": "outside"
           }
          },
          "xaxis": {
           "automargin": true,
           "gridcolor": "white",
           "linecolor": "white",
           "showgrid": true,
           "tickcolor": "rgb(51,51,51)",
           "ticks": "outside",
           "title": {
            "standoff": 15
           },
           "zerolinecolor": "white"
          },
          "yaxis": {
           "automargin": true,
           "gridcolor": "white",
           "linecolor": "white",
           "showgrid": true,
           "tickcolor": "rgb(51,51,51)",
           "ticks": "outside",
           "title": {
            "standoff": 15
           },
           "zerolinecolor": "white"
          }
         }
        },
        "title": {
         "text": "PIE CHART OF PEOPLE DIED IN AIR STRIKE ATTACKS(PAKISTAN)"
        },
        "width": 1300
       }
      }
     },
     "metadata": {},
     "output_type": "display_data"
    }
   ],
   "source": [
    "pie_chart = px.pie(\n",
    "    data_frame = df1 ,\n",
    "    values = 'Total Died Max',\n",
    "    names = 'Location' ,\n",
    "    color = 'Location' ,\n",
    "    color_discrete_sequence = ['red' , 'green' , 'blue' , 'orange', '#2F4F4F' , 'yellow' , '#4287f5' , '#42cef5' , '#42ecf5' ,\n",
    "                               '#8d42f5' , '#cb42f5' , '#f542d7' , '#f5426f' , '#42f563' , '#cbf542' , '#69f542'],\n",
    "    hover_name = 'Injured Max',\n",
    "    # hover_data = ['Province']\n",
    "    labels = {\"miranshah\":\"Miran Shah\"},\n",
    "    title = 'PIE CHART OF PEOPLE DIED IN AIR STRIKE ATTACKS(PAKISTAN)',\n",
    "    template = 'ggplot2', # ggplot2 , seaborn , simple_white , plotly , plotly_white , plotly_dark , presentation , xgridoff \n",
    "                              # ygridoff , gridon , none\n",
    "    width = 1300 ,\n",
    "    height = 750,\n",
    "    hole = 0.5\n",
    ")\n",
    "pie_chart.show()"
   ]
  },
  {
   "cell_type": "code",
   "execution_count": 15,
   "metadata": {},
   "outputs": [
    {
     "data": {
      "application/vnd.plotly.v1+json": {
       "config": {
        "plotlyServerURL": "https://plot.ly"
       },
       "data": [
        {
         "customdata": [
          [
           "Zari Noori area"
          ],
          [
           "Miranshah"
          ],
          [
           "Shah Alam- Wana"
          ],
          [
           "Mir Ali "
          ],
          [
           "mir ali"
          ],
          [
           "Datta Khel"
          ],
          [
           "Datta Khel"
          ],
          [
           "Darga Mandi"
          ],
          [
           "Datta Khel"
          ],
          [
           "miran shah"
          ],
          [
           "Khushali Toorikhel"
          ],
          [
           "MiranShah"
          ],
          [
           "Datta Khel"
          ],
          [
           "Khund"
          ],
          [
           "Mir Ali"
          ],
          [
           "Shewa istrict- spinwan tehsil"
          ],
          [
           "Gulli khel in Ghulam Khan "
          ],
          [
           "Khadi village"
          ],
          [
           "Madi Khel"
          ],
          [
           "Shalam Raghzai 10 km northwest of wana"
          ],
          [
           "Ghalmandi Panga- Bray Nishtar area near the border with Afghanistan and North Waziristan"
          ],
          [
           "Ramzak area"
          ],
          [
           "Birmal area of South Waziristan"
          ],
          [
           "Shawal District- 50km Southwest of Miranshah"
          ],
          [
           "Darra Nishtar- Shawal Area"
          ],
          [
           "Haider Khel Village- 25km East of Miranshah"
          ],
          [
           "Bobar Gar area- 50km south of Miranshah"
          ],
          [
           "Tehsil Tal's main Tal bazaar"
          ],
          [
           "Bari Mail area of Shawal district"
          ],
          [
           "Datta Khel area"
          ],
          [
           "Shawal valley "
          ]
         ],
         "domain": {
          "x": [
           0,
           1
          ],
          "y": [
           0,
           1
          ]
         },
         "hole": 0.5,
         "hovertemplate": "<b>%{hovertext}</b><br><br>Location=%{customdata[0]}<br>Total Died Max=%{value}<extra></extra>",
         "hovertext": [
          3,
          2,
          8,
          6,
          5,
          8,
          8,
          6,
          4,
          8,
          10,
          8,
          4,
          4,
          2,
          5,
          6,
          4,
          5,
          2,
          2,
          4,
          2,
          0,
          14,
          4,
          6,
          8,
          8,
          4,
          2
         ],
         "labels": [
          "Zari Noori area",
          "Miranshah",
          "Shah Alam- Wana",
          "Mir Ali ",
          "mir ali",
          "Datta Khel",
          "Datta Khel",
          "Darga Mandi",
          "Datta Khel",
          "miran shah",
          "Khushali Toorikhel",
          "MiranShah",
          "Datta Khel",
          "Khund",
          "Mir Ali",
          "Shewa istrict- spinwan tehsil",
          "Gulli khel in Ghulam Khan ",
          "Khadi village",
          "Madi Khel",
          "Shalam Raghzai 10 km northwest of wana",
          "Ghalmandi Panga- Bray Nishtar area near the border with Afghanistan and North Waziristan",
          "Ramzak area",
          "Birmal area of South Waziristan",
          "Shawal District- 50km Southwest of Miranshah",
          "Darra Nishtar- Shawal Area",
          "Haider Khel Village- 25km East of Miranshah",
          "Bobar Gar area- 50km south of Miranshah",
          "Tehsil Tal's main Tal bazaar",
          "Bari Mail area of Shawal district",
          "Datta Khel area",
          "Shawal valley "
         ],
         "legendgroup": "",
         "marker": {
          "colors": [
           "red",
           "green",
           "blue",
           "orange",
           "#2F4F4F",
           "yellow",
           "yellow",
           "#4287f5",
           "yellow",
           "#42cef5",
           "#42ecf5",
           "#8d42f5",
           "yellow",
           "#cb42f5",
           "#f542d7",
           "#f5426f",
           "#42f563",
           "#cbf542",
           "#69f542",
           "red",
           "green",
           "blue",
           "orange",
           "#2F4F4F",
           "yellow",
           "#4287f5",
           "#42cef5",
           "#42ecf5",
           "#8d42f5",
           "#cb42f5",
           "#f542d7"
          ],
          "line": {
           "color": "#000000",
           "width": 4
          }
         },
         "name": "",
         "opacity": 0.7,
         "pull": [
          0,
          0,
          0,
          0,
          0,
          0.2,
          0,
          0,
          0,
          0,
          0,
          0,
          0,
          0,
          0,
          0
         ],
         "rotation": 90,
         "showlegend": true,
         "textinfo": "percent+label",
         "textposition": "inside",
         "type": "pie",
         "values": [
          8,
          9,
          9,
          8,
          8,
          8,
          8,
          9,
          8,
          9,
          9,
          9,
          9,
          8,
          9,
          8,
          8,
          9,
          9,
          8,
          8,
          9,
          8,
          8,
          8,
          8,
          9,
          8,
          8,
          8,
          8
         ]
        }
       ],
       "layout": {
        "height": 750,
        "legend": {
         "tracegroupgap": 0
        },
        "piecolorway": [
         "red",
         "green",
         "blue",
         "orange",
         "#2F4F4F",
         "yellow",
         "#4287f5",
         "#42cef5",
         "#42ecf5",
         "#8d42f5",
         "#cb42f5",
         "#f542d7",
         "#f5426f",
         "#42f563",
         "#cbf542",
         "#69f542"
        ],
        "template": {
         "data": {
          "bar": [
           {
            "error_x": {
             "color": "rgb(51,51,51)"
            },
            "error_y": {
             "color": "rgb(51,51,51)"
            },
            "marker": {
             "line": {
              "color": "rgb(237,237,237)",
              "width": 0.5
             },
             "pattern": {
              "fillmode": "overlay",
              "size": 10,
              "solidity": 0.2
             }
            },
            "type": "bar"
           }
          ],
          "barpolar": [
           {
            "marker": {
             "line": {
              "color": "rgb(237,237,237)",
              "width": 0.5
             },
             "pattern": {
              "fillmode": "overlay",
              "size": 10,
              "solidity": 0.2
             }
            },
            "type": "barpolar"
           }
          ],
          "carpet": [
           {
            "aaxis": {
             "endlinecolor": "rgb(51,51,51)",
             "gridcolor": "white",
             "linecolor": "white",
             "minorgridcolor": "white",
             "startlinecolor": "rgb(51,51,51)"
            },
            "baxis": {
             "endlinecolor": "rgb(51,51,51)",
             "gridcolor": "white",
             "linecolor": "white",
             "minorgridcolor": "white",
             "startlinecolor": "rgb(51,51,51)"
            },
            "type": "carpet"
           }
          ],
          "choropleth": [
           {
            "colorbar": {
             "outlinewidth": 0,
             "tickcolor": "rgb(237,237,237)",
             "ticklen": 6,
             "ticks": "inside"
            },
            "type": "choropleth"
           }
          ],
          "contour": [
           {
            "colorbar": {
             "outlinewidth": 0,
             "tickcolor": "rgb(237,237,237)",
             "ticklen": 6,
             "ticks": "inside"
            },
            "colorscale": [
             [
              0,
              "rgb(20,44,66)"
             ],
             [
              1,
              "rgb(90,179,244)"
             ]
            ],
            "type": "contour"
           }
          ],
          "contourcarpet": [
           {
            "colorbar": {
             "outlinewidth": 0,
             "tickcolor": "rgb(237,237,237)",
             "ticklen": 6,
             "ticks": "inside"
            },
            "type": "contourcarpet"
           }
          ],
          "heatmap": [
           {
            "colorbar": {
             "outlinewidth": 0,
             "tickcolor": "rgb(237,237,237)",
             "ticklen": 6,
             "ticks": "inside"
            },
            "colorscale": [
             [
              0,
              "rgb(20,44,66)"
             ],
             [
              1,
              "rgb(90,179,244)"
             ]
            ],
            "type": "heatmap"
           }
          ],
          "heatmapgl": [
           {
            "colorbar": {
             "outlinewidth": 0,
             "tickcolor": "rgb(237,237,237)",
             "ticklen": 6,
             "ticks": "inside"
            },
            "colorscale": [
             [
              0,
              "rgb(20,44,66)"
             ],
             [
              1,
              "rgb(90,179,244)"
             ]
            ],
            "type": "heatmapgl"
           }
          ],
          "histogram": [
           {
            "marker": {
             "pattern": {
              "fillmode": "overlay",
              "size": 10,
              "solidity": 0.2
             }
            },
            "type": "histogram"
           }
          ],
          "histogram2d": [
           {
            "colorbar": {
             "outlinewidth": 0,
             "tickcolor": "rgb(237,237,237)",
             "ticklen": 6,
             "ticks": "inside"
            },
            "colorscale": [
             [
              0,
              "rgb(20,44,66)"
             ],
             [
              1,
              "rgb(90,179,244)"
             ]
            ],
            "type": "histogram2d"
           }
          ],
          "histogram2dcontour": [
           {
            "colorbar": {
             "outlinewidth": 0,
             "tickcolor": "rgb(237,237,237)",
             "ticklen": 6,
             "ticks": "inside"
            },
            "colorscale": [
             [
              0,
              "rgb(20,44,66)"
             ],
             [
              1,
              "rgb(90,179,244)"
             ]
            ],
            "type": "histogram2dcontour"
           }
          ],
          "mesh3d": [
           {
            "colorbar": {
             "outlinewidth": 0,
             "tickcolor": "rgb(237,237,237)",
             "ticklen": 6,
             "ticks": "inside"
            },
            "type": "mesh3d"
           }
          ],
          "parcoords": [
           {
            "line": {
             "colorbar": {
              "outlinewidth": 0,
              "tickcolor": "rgb(237,237,237)",
              "ticklen": 6,
              "ticks": "inside"
             }
            },
            "type": "parcoords"
           }
          ],
          "pie": [
           {
            "automargin": true,
            "type": "pie"
           }
          ],
          "scatter": [
           {
            "fillpattern": {
             "fillmode": "overlay",
             "size": 10,
             "solidity": 0.2
            },
            "type": "scatter"
           }
          ],
          "scatter3d": [
           {
            "line": {
             "colorbar": {
              "outlinewidth": 0,
              "tickcolor": "rgb(237,237,237)",
              "ticklen": 6,
              "ticks": "inside"
             }
            },
            "marker": {
             "colorbar": {
              "outlinewidth": 0,
              "tickcolor": "rgb(237,237,237)",
              "ticklen": 6,
              "ticks": "inside"
             }
            },
            "type": "scatter3d"
           }
          ],
          "scattercarpet": [
           {
            "marker": {
             "colorbar": {
              "outlinewidth": 0,
              "tickcolor": "rgb(237,237,237)",
              "ticklen": 6,
              "ticks": "inside"
             }
            },
            "type": "scattercarpet"
           }
          ],
          "scattergeo": [
           {
            "marker": {
             "colorbar": {
              "outlinewidth": 0,
              "tickcolor": "rgb(237,237,237)",
              "ticklen": 6,
              "ticks": "inside"
             }
            },
            "type": "scattergeo"
           }
          ],
          "scattergl": [
           {
            "marker": {
             "colorbar": {
              "outlinewidth": 0,
              "tickcolor": "rgb(237,237,237)",
              "ticklen": 6,
              "ticks": "inside"
             }
            },
            "type": "scattergl"
           }
          ],
          "scattermapbox": [
           {
            "marker": {
             "colorbar": {
              "outlinewidth": 0,
              "tickcolor": "rgb(237,237,237)",
              "ticklen": 6,
              "ticks": "inside"
             }
            },
            "type": "scattermapbox"
           }
          ],
          "scatterpolar": [
           {
            "marker": {
             "colorbar": {
              "outlinewidth": 0,
              "tickcolor": "rgb(237,237,237)",
              "ticklen": 6,
              "ticks": "inside"
             }
            },
            "type": "scatterpolar"
           }
          ],
          "scatterpolargl": [
           {
            "marker": {
             "colorbar": {
              "outlinewidth": 0,
              "tickcolor": "rgb(237,237,237)",
              "ticklen": 6,
              "ticks": "inside"
             }
            },
            "type": "scatterpolargl"
           }
          ],
          "scatterternary": [
           {
            "marker": {
             "colorbar": {
              "outlinewidth": 0,
              "tickcolor": "rgb(237,237,237)",
              "ticklen": 6,
              "ticks": "inside"
             }
            },
            "type": "scatterternary"
           }
          ],
          "surface": [
           {
            "colorbar": {
             "outlinewidth": 0,
             "tickcolor": "rgb(237,237,237)",
             "ticklen": 6,
             "ticks": "inside"
            },
            "colorscale": [
             [
              0,
              "rgb(20,44,66)"
             ],
             [
              1,
              "rgb(90,179,244)"
             ]
            ],
            "type": "surface"
           }
          ],
          "table": [
           {
            "cells": {
             "fill": {
              "color": "rgb(237,237,237)"
             },
             "line": {
              "color": "white"
             }
            },
            "header": {
             "fill": {
              "color": "rgb(217,217,217)"
             },
             "line": {
              "color": "white"
             }
            },
            "type": "table"
           }
          ]
         },
         "layout": {
          "annotationdefaults": {
           "arrowhead": 0,
           "arrowwidth": 1
          },
          "autotypenumbers": "strict",
          "coloraxis": {
           "colorbar": {
            "outlinewidth": 0,
            "tickcolor": "rgb(237,237,237)",
            "ticklen": 6,
            "ticks": "inside"
           }
          },
          "colorscale": {
           "sequential": [
            [
             0,
             "rgb(20,44,66)"
            ],
            [
             1,
             "rgb(90,179,244)"
            ]
           ],
           "sequentialminus": [
            [
             0,
             "rgb(20,44,66)"
            ],
            [
             1,
             "rgb(90,179,244)"
            ]
           ]
          },
          "colorway": [
           "#F8766D",
           "#A3A500",
           "#00BF7D",
           "#00B0F6",
           "#E76BF3"
          ],
          "font": {
           "color": "rgb(51,51,51)"
          },
          "geo": {
           "bgcolor": "white",
           "lakecolor": "white",
           "landcolor": "rgb(237,237,237)",
           "showlakes": true,
           "showland": true,
           "subunitcolor": "white"
          },
          "hoverlabel": {
           "align": "left"
          },
          "hovermode": "closest",
          "paper_bgcolor": "white",
          "plot_bgcolor": "rgb(237,237,237)",
          "polar": {
           "angularaxis": {
            "gridcolor": "white",
            "linecolor": "white",
            "showgrid": true,
            "tickcolor": "rgb(51,51,51)",
            "ticks": "outside"
           },
           "bgcolor": "rgb(237,237,237)",
           "radialaxis": {
            "gridcolor": "white",
            "linecolor": "white",
            "showgrid": true,
            "tickcolor": "rgb(51,51,51)",
            "ticks": "outside"
           }
          },
          "scene": {
           "xaxis": {
            "backgroundcolor": "rgb(237,237,237)",
            "gridcolor": "white",
            "gridwidth": 2,
            "linecolor": "white",
            "showbackground": true,
            "showgrid": true,
            "tickcolor": "rgb(51,51,51)",
            "ticks": "outside",
            "zerolinecolor": "white"
           },
           "yaxis": {
            "backgroundcolor": "rgb(237,237,237)",
            "gridcolor": "white",
            "gridwidth": 2,
            "linecolor": "white",
            "showbackground": true,
            "showgrid": true,
            "tickcolor": "rgb(51,51,51)",
            "ticks": "outside",
            "zerolinecolor": "white"
           },
           "zaxis": {
            "backgroundcolor": "rgb(237,237,237)",
            "gridcolor": "white",
            "gridwidth": 2,
            "linecolor": "white",
            "showbackground": true,
            "showgrid": true,
            "tickcolor": "rgb(51,51,51)",
            "ticks": "outside",
            "zerolinecolor": "white"
           }
          },
          "shapedefaults": {
           "fillcolor": "black",
           "line": {
            "width": 0
           },
           "opacity": 0.3
          },
          "ternary": {
           "aaxis": {
            "gridcolor": "white",
            "linecolor": "white",
            "showgrid": true,
            "tickcolor": "rgb(51,51,51)",
            "ticks": "outside"
           },
           "baxis": {
            "gridcolor": "white",
            "linecolor": "white",
            "showgrid": true,
            "tickcolor": "rgb(51,51,51)",
            "ticks": "outside"
           },
           "bgcolor": "rgb(237,237,237)",
           "caxis": {
            "gridcolor": "white",
            "linecolor": "white",
            "showgrid": true,
            "tickcolor": "rgb(51,51,51)",
            "ticks": "outside"
           }
          },
          "xaxis": {
           "automargin": true,
           "gridcolor": "white",
           "linecolor": "white",
           "showgrid": true,
           "tickcolor": "rgb(51,51,51)",
           "ticks": "outside",
           "title": {
            "standoff": 15
           },
           "zerolinecolor": "white"
          },
          "yaxis": {
           "automargin": true,
           "gridcolor": "white",
           "linecolor": "white",
           "showgrid": true,
           "tickcolor": "rgb(51,51,51)",
           "ticks": "outside",
           "title": {
            "standoff": 15
           },
           "zerolinecolor": "white"
          }
         }
        },
        "title": {
         "text": "PIE CHART OF PEOPLE DIED IN AIR STRIKE ATTACKS(PAKISTAN)"
        },
        "width": 1300
       }
      }
     },
     "metadata": {},
     "output_type": "display_data"
    }
   ],
   "source": [
    "pie_chart.update_traces(textposition = 'inside' , textinfo = 'percent+label' , \n",
    "                marker = dict(line=dict(color='#000000' , width=4)),\n",
    "                pull = [0,0,0,0,0,0.2,0,0,0,0,0,0,0,0,0,0] , opacity=0.7 , rotation = 90 )"
   ]
  },
  {
   "cell_type": "code",
   "execution_count": 27,
   "metadata": {},
   "outputs": [],
   "source": [
    "import os\n",
    "import plotly.io as pio\n",
    "\n",
    "if not os.path.exists(\"images\"):\n",
    "    os.mkdir(\"images\")\n",
    "    "
   ]
  },
  {
   "cell_type": "code",
   "execution_count": 28,
   "metadata": {},
   "outputs": [
    {
     "name": "stdout",
     "output_type": "stream",
     "text": [
      "Requirement already satisfied: kaleido in c:\\users\\92301\\appdata\\local\\programs\\python\\python310\\lib\\site-packages (0.2.1)\n",
      "Note: you may need to restart the kernel to use updated packages.\n"
     ]
    },
    {
     "name": "stderr",
     "output_type": "stream",
     "text": [
      "WARNING: You are using pip version 22.0.4; however, version 22.1.2 is available.\n",
      "You should consider upgrading via the 'c:\\Users\\92301\\AppData\\Local\\Programs\\Python\\Python310\\python.exe -m pip install --upgrade pip' command.\n"
     ]
    }
   ],
   "source": [
    "pip install -U kaleido"
   ]
  },
  {
   "cell_type": "code",
   "execution_count": 35,
   "metadata": {},
   "outputs": [],
   "source": [
    "fig.write_html(\"file_1.html\")\n",
    "pie_chart.write_html(\"file_2.html\")"
   ]
  },
  {
   "cell_type": "code",
   "execution_count": null,
   "metadata": {},
   "outputs": [],
   "source": []
  }
 ],
 "metadata": {
  "interpreter": {
   "hash": "acda11a18df8457a66539dabc7158352f8698b7cdb86e1c69fe6d1b93a3cec72"
  },
  "kernelspec": {
   "display_name": "Python 3.10.4 64-bit",
   "language": "python",
   "name": "python3"
  },
  "language_info": {
   "codemirror_mode": {
    "name": "ipython",
    "version": 3
   },
   "file_extension": ".py",
   "mimetype": "text/x-python",
   "name": "python",
   "nbconvert_exporter": "python",
   "pygments_lexer": "ipython3",
   "version": "3.10.4"
  },
  "orig_nbformat": 4
 },
 "nbformat": 4,
 "nbformat_minor": 2
}
