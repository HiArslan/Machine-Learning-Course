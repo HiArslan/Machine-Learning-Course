{
 "cells": [
  {
   "cell_type": "code",
   "execution_count": 1,
   "metadata": {},
   "outputs": [],
   "source": [
    "import pandas as pd \n",
    "import numpy as np"
   ]
  },
  {
   "cell_type": "code",
   "execution_count": 3,
   "metadata": {},
   "outputs": [
    {
     "data": {
      "text/html": [
       "<div>\n",
       "<style scoped>\n",
       "    .dataframe tbody tr th:only-of-type {\n",
       "        vertical-align: middle;\n",
       "    }\n",
       "\n",
       "    .dataframe tbody tr th {\n",
       "        vertical-align: top;\n",
       "    }\n",
       "\n",
       "    .dataframe thead th {\n",
       "        text-align: right;\n",
       "    }\n",
       "</style>\n",
       "<table border=\"1\" class=\"dataframe\">\n",
       "  <thead>\n",
       "    <tr style=\"text-align: right;\">\n",
       "      <th></th>\n",
       "      <th>Player</th>\n",
       "      <th>Span</th>\n",
       "      <th>Match</th>\n",
       "      <th>Inns</th>\n",
       "      <th>Not Outs</th>\n",
       "      <th>Runs</th>\n",
       "      <th>HS</th>\n",
       "      <th>Ave</th>\n",
       "      <th>BF</th>\n",
       "      <th>SR</th>\n",
       "      <th>100</th>\n",
       "      <th>50</th>\n",
       "      <th>0</th>\n",
       "      <th>4s</th>\n",
       "    </tr>\n",
       "  </thead>\n",
       "  <tbody>\n",
       "    <tr>\n",
       "      <th>0</th>\n",
       "      <td>Kamran Akmal</td>\n",
       "      <td>2016-2020</td>\n",
       "      <td>56</td>\n",
       "      <td>55</td>\n",
       "      <td>2</td>\n",
       "      <td>1537</td>\n",
       "      <td>107*</td>\n",
       "      <td>29.00</td>\n",
       "      <td>1111</td>\n",
       "      <td>138.34</td>\n",
       "      <td>3</td>\n",
       "      <td>9</td>\n",
       "      <td>8</td>\n",
       "      <td>158</td>\n",
       "    </tr>\n",
       "    <tr>\n",
       "      <th>1</th>\n",
       "      <td>Babar Azam</td>\n",
       "      <td>2016-2020</td>\n",
       "      <td>47</td>\n",
       "      <td>45</td>\n",
       "      <td>5</td>\n",
       "      <td>1516</td>\n",
       "      <td>78</td>\n",
       "      <td>37.90</td>\n",
       "      <td>1285</td>\n",
       "      <td>117.97</td>\n",
       "      <td>0</td>\n",
       "      <td>14</td>\n",
       "      <td>5</td>\n",
       "      <td>163</td>\n",
       "    </tr>\n",
       "    <tr>\n",
       "      <th>2</th>\n",
       "      <td>SR Watson</td>\n",
       "      <td>2016-2020</td>\n",
       "      <td>46</td>\n",
       "      <td>46</td>\n",
       "      <td>4</td>\n",
       "      <td>1361</td>\n",
       "      <td>91*</td>\n",
       "      <td>32.40</td>\n",
       "      <td>982</td>\n",
       "      <td>138.59</td>\n",
       "      <td>0</td>\n",
       "      <td>9</td>\n",
       "      <td>2</td>\n",
       "      <td>123</td>\n",
       "    </tr>\n",
       "    <tr>\n",
       "      <th>3</th>\n",
       "      <td>Shoaib Malik</td>\n",
       "      <td>2016-2020</td>\n",
       "      <td>48</td>\n",
       "      <td>44</td>\n",
       "      <td>8</td>\n",
       "      <td>1127</td>\n",
       "      <td>68</td>\n",
       "      <td>31.30</td>\n",
       "      <td>919</td>\n",
       "      <td>122.63</td>\n",
       "      <td>0</td>\n",
       "      <td>7</td>\n",
       "      <td>2</td>\n",
       "      <td>74</td>\n",
       "    </tr>\n",
       "    <tr>\n",
       "      <th>4</th>\n",
       "      <td>Ahmed Shehzad</td>\n",
       "      <td>2016-2020</td>\n",
       "      <td>45</td>\n",
       "      <td>43</td>\n",
       "      <td>2</td>\n",
       "      <td>1077</td>\n",
       "      <td>99</td>\n",
       "      <td>26.26</td>\n",
       "      <td>897</td>\n",
       "      <td>120.06</td>\n",
       "      <td>0</td>\n",
       "      <td>9</td>\n",
       "      <td>4</td>\n",
       "      <td>109</td>\n",
       "    </tr>\n",
       "    <tr>\n",
       "      <th>5</th>\n",
       "      <td>Fakhar Zaman</td>\n",
       "      <td>2017-2020</td>\n",
       "      <td>40</td>\n",
       "      <td>40</td>\n",
       "      <td>0</td>\n",
       "      <td>1064</td>\n",
       "      <td>94</td>\n",
       "      <td>26.60</td>\n",
       "      <td>775</td>\n",
       "      <td>137.29</td>\n",
       "      <td>0</td>\n",
       "      <td>7</td>\n",
       "      <td>3</td>\n",
       "      <td>111</td>\n",
       "    </tr>\n",
       "    <tr>\n",
       "      <th>6</th>\n",
       "      <td>L Ronchi</td>\n",
       "      <td>2018-2020</td>\n",
       "      <td>31</td>\n",
       "      <td>31</td>\n",
       "      <td>3</td>\n",
       "      <td>1020</td>\n",
       "      <td>94*</td>\n",
       "      <td>36.42</td>\n",
       "      <td>614</td>\n",
       "      <td>166.12</td>\n",
       "      <td>0</td>\n",
       "      <td>10</td>\n",
       "      <td>4</td>\n",
       "      <td>116</td>\n",
       "    </tr>\n",
       "    <tr>\n",
       "      <th>7</th>\n",
       "      <td>Mohammad Hafeez</td>\n",
       "      <td>2016-2020</td>\n",
       "      <td>48</td>\n",
       "      <td>45</td>\n",
       "      <td>6</td>\n",
       "      <td>1002</td>\n",
       "      <td>98*</td>\n",
       "      <td>25.69</td>\n",
       "      <td>854</td>\n",
       "      <td>117.33</td>\n",
       "      <td>0</td>\n",
       "      <td>6</td>\n",
       "      <td>4</td>\n",
       "      <td>97</td>\n",
       "    </tr>\n",
       "    <tr>\n",
       "      <th>8</th>\n",
       "      <td>RR Rossouw</td>\n",
       "      <td>2017-2020</td>\n",
       "      <td>40</td>\n",
       "      <td>37</td>\n",
       "      <td>9</td>\n",
       "      <td>962</td>\n",
       "      <td>100*</td>\n",
       "      <td>34.35</td>\n",
       "      <td>734</td>\n",
       "      <td>131.06</td>\n",
       "      <td>1</td>\n",
       "      <td>3</td>\n",
       "      <td>2</td>\n",
       "      <td>85</td>\n",
       "    </tr>\n",
       "    <tr>\n",
       "      <th>9</th>\n",
       "      <td>Sarfaraz Ahmed</td>\n",
       "      <td>2016-2020</td>\n",
       "      <td>52</td>\n",
       "      <td>43</td>\n",
       "      <td>12</td>\n",
       "      <td>868</td>\n",
       "      <td>56*</td>\n",
       "      <td>28.00</td>\n",
       "      <td>694</td>\n",
       "      <td>125.07</td>\n",
       "      <td>0</td>\n",
       "      <td>3</td>\n",
       "      <td>2</td>\n",
       "      <td>74</td>\n",
       "    </tr>\n",
       "    <tr>\n",
       "      <th>10</th>\n",
       "      <td>CS Delport</td>\n",
       "      <td>2016-2020</td>\n",
       "      <td>34</td>\n",
       "      <td>33</td>\n",
       "      <td>2</td>\n",
       "      <td>860</td>\n",
       "      <td>117*</td>\n",
       "      <td>27.74</td>\n",
       "      <td>666</td>\n",
       "      <td>129.12</td>\n",
       "      <td>1</td>\n",
       "      <td>5</td>\n",
       "      <td>4</td>\n",
       "      <td>79</td>\n",
       "    </tr>\n",
       "    <tr>\n",
       "      <th>11</th>\n",
       "      <td>Umar Akmal</td>\n",
       "      <td>2016-2019</td>\n",
       "      <td>32</td>\n",
       "      <td>30</td>\n",
       "      <td>5</td>\n",
       "      <td>833</td>\n",
       "      <td>93</td>\n",
       "      <td>33.32</td>\n",
       "      <td>604</td>\n",
       "      <td>137.91</td>\n",
       "      <td>0</td>\n",
       "      <td>7</td>\n",
       "      <td>3</td>\n",
       "      <td>66</td>\n",
       "    </tr>\n",
       "    <tr>\n",
       "      <th>12</th>\n",
       "      <td>CA Ingram</td>\n",
       "      <td>2018-2020</td>\n",
       "      <td>32</td>\n",
       "      <td>31</td>\n",
       "      <td>7</td>\n",
       "      <td>793</td>\n",
       "      <td>127*</td>\n",
       "      <td>33.04</td>\n",
       "      <td>519</td>\n",
       "      <td>152.79</td>\n",
       "      <td>1</td>\n",
       "      <td>3</td>\n",
       "      <td>1</td>\n",
       "      <td>67</td>\n",
       "    </tr>\n",
       "    <tr>\n",
       "      <th>13</th>\n",
       "      <td>DR Smith</td>\n",
       "      <td>2016-2019</td>\n",
       "      <td>28</td>\n",
       "      <td>25</td>\n",
       "      <td>4</td>\n",
       "      <td>701</td>\n",
       "      <td>73</td>\n",
       "      <td>33.38</td>\n",
       "      <td>611</td>\n",
       "      <td>114.72</td>\n",
       "      <td>0</td>\n",
       "      <td>5</td>\n",
       "      <td>1</td>\n",
       "      <td>67</td>\n",
       "    </tr>\n",
       "    <tr>\n",
       "      <th>14</th>\n",
       "      <td>DJG Sammy</td>\n",
       "      <td>2016-2020</td>\n",
       "      <td>49</td>\n",
       "      <td>39</td>\n",
       "      <td>12</td>\n",
       "      <td>691</td>\n",
       "      <td>48</td>\n",
       "      <td>25.59</td>\n",
       "      <td>472</td>\n",
       "      <td>146.39</td>\n",
       "      <td>0</td>\n",
       "      <td>0</td>\n",
       "      <td>2</td>\n",
       "      <td>48</td>\n",
       "    </tr>\n",
       "    <tr>\n",
       "      <th>15</th>\n",
       "      <td>RS Bopara</td>\n",
       "      <td>2016-2020</td>\n",
       "      <td>37</td>\n",
       "      <td>34</td>\n",
       "      <td>8</td>\n",
       "      <td>667</td>\n",
       "      <td>71*</td>\n",
       "      <td>25.65</td>\n",
       "      <td>574</td>\n",
       "      <td>116.20</td>\n",
       "      <td>0</td>\n",
       "      <td>3</td>\n",
       "      <td>1</td>\n",
       "      <td>51</td>\n",
       "    </tr>\n",
       "    <tr>\n",
       "      <th>16</th>\n",
       "      <td>Asif Ali</td>\n",
       "      <td>2016-2020</td>\n",
       "      <td>43</td>\n",
       "      <td>36</td>\n",
       "      <td>10</td>\n",
       "      <td>655</td>\n",
       "      <td>70</td>\n",
       "      <td>25.19</td>\n",
       "      <td>401</td>\n",
       "      <td>163.34</td>\n",
       "      <td>0</td>\n",
       "      <td>2</td>\n",
       "      <td>3</td>\n",
       "      <td>39</td>\n",
       "    </tr>\n",
       "    <tr>\n",
       "      <th>17</th>\n",
       "      <td>KA Pollard</td>\n",
       "      <td>2017-2019</td>\n",
       "      <td>33</td>\n",
       "      <td>30</td>\n",
       "      <td>10</td>\n",
       "      <td>650</td>\n",
       "      <td>73</td>\n",
       "      <td>32.50</td>\n",
       "      <td>391</td>\n",
       "      <td>166.24</td>\n",
       "      <td>0</td>\n",
       "      <td>3</td>\n",
       "      <td>2</td>\n",
       "      <td>48</td>\n",
       "    </tr>\n",
       "    <tr>\n",
       "      <th>18</th>\n",
       "      <td>Sohail Akhtar</td>\n",
       "      <td>2018-2020</td>\n",
       "      <td>32</td>\n",
       "      <td>30</td>\n",
       "      <td>9</td>\n",
       "      <td>625</td>\n",
       "      <td>75</td>\n",
       "      <td>29.76</td>\n",
       "      <td>492</td>\n",
       "      <td>127.03</td>\n",
       "      <td>0</td>\n",
       "      <td>3</td>\n",
       "      <td>0</td>\n",
       "      <td>55</td>\n",
       "    </tr>\n",
       "    <tr>\n",
       "      <th>19</th>\n",
       "      <td>KC Sangakkara</td>\n",
       "      <td>2016-2018</td>\n",
       "      <td>24</td>\n",
       "      <td>23</td>\n",
       "      <td>1</td>\n",
       "      <td>613</td>\n",
       "      <td>65</td>\n",
       "      <td>27.86</td>\n",
       "      <td>485</td>\n",
       "      <td>126.39</td>\n",
       "      <td>0</td>\n",
       "      <td>5</td>\n",
       "      <td>2</td>\n",
       "      <td>64</td>\n",
       "    </tr>\n",
       "    <tr>\n",
       "      <th>20</th>\n",
       "      <td>KP Pietersen</td>\n",
       "      <td>2016-2018</td>\n",
       "      <td>27</td>\n",
       "      <td>25</td>\n",
       "      <td>2</td>\n",
       "      <td>611</td>\n",
       "      <td>88*</td>\n",
       "      <td>26.56</td>\n",
       "      <td>439</td>\n",
       "      <td>139.17</td>\n",
       "      <td>0</td>\n",
       "      <td>4</td>\n",
       "      <td>4</td>\n",
       "      <td>43</td>\n",
       "    </tr>\n",
       "    <tr>\n",
       "      <th>21</th>\n",
       "      <td>Tamim Iqbal</td>\n",
       "      <td>2016-2020</td>\n",
       "      <td>20</td>\n",
       "      <td>20</td>\n",
       "      <td>4</td>\n",
       "      <td>605</td>\n",
       "      <td>80*</td>\n",
       "      <td>37.81</td>\n",
       "      <td>535</td>\n",
       "      <td>113.08</td>\n",
       "      <td>0</td>\n",
       "      <td>4</td>\n",
       "      <td>0</td>\n",
       "      <td>61</td>\n",
       "    </tr>\n",
       "    <tr>\n",
       "      <th>22</th>\n",
       "      <td>Sharjeel Khan</td>\n",
       "      <td>2016-2020</td>\n",
       "      <td>24</td>\n",
       "      <td>23</td>\n",
       "      <td>2</td>\n",
       "      <td>516</td>\n",
       "      <td>117</td>\n",
       "      <td>24.57</td>\n",
       "      <td>362</td>\n",
       "      <td>142.54</td>\n",
       "      <td>1</td>\n",
       "      <td>2</td>\n",
       "      <td>1</td>\n",
       "      <td>45</td>\n",
       "    </tr>\n",
       "    <tr>\n",
       "      <th>23</th>\n",
       "      <td>DJ Malan</td>\n",
       "      <td>2016-2020</td>\n",
       "      <td>20</td>\n",
       "      <td>20</td>\n",
       "      <td>3</td>\n",
       "      <td>508</td>\n",
       "      <td>64</td>\n",
       "      <td>29.88</td>\n",
       "      <td>428</td>\n",
       "      <td>118.69</td>\n",
       "      <td>0</td>\n",
       "      <td>3</td>\n",
       "      <td>0</td>\n",
       "      <td>50</td>\n",
       "    </tr>\n",
       "    <tr>\n",
       "      <th>24</th>\n",
       "      <td>Misbah-ul-Haq</td>\n",
       "      <td>2016-2019</td>\n",
       "      <td>29</td>\n",
       "      <td>22</td>\n",
       "      <td>6</td>\n",
       "      <td>507</td>\n",
       "      <td>61*</td>\n",
       "      <td>31.68</td>\n",
       "      <td>453</td>\n",
       "      <td>111.92</td>\n",
       "      <td>0</td>\n",
       "      <td>2</td>\n",
       "      <td>0</td>\n",
       "      <td>42</td>\n",
       "    </tr>\n",
       "    <tr>\n",
       "      <th>25</th>\n",
       "      <td>JM Vince</td>\n",
       "      <td>2016-2020</td>\n",
       "      <td>20</td>\n",
       "      <td>20</td>\n",
       "      <td>1</td>\n",
       "      <td>497</td>\n",
       "      <td>84</td>\n",
       "      <td>26.15</td>\n",
       "      <td>359</td>\n",
       "      <td>138.44</td>\n",
       "      <td>0</td>\n",
       "      <td>2</td>\n",
       "      <td>1</td>\n",
       "      <td>60</td>\n",
       "    </tr>\n",
       "    <tr>\n",
       "      <th>26</th>\n",
       "      <td>Imad Wasim</td>\n",
       "      <td>2016-2020</td>\n",
       "      <td>48</td>\n",
       "      <td>39</td>\n",
       "      <td>14</td>\n",
       "      <td>473</td>\n",
       "      <td>50</td>\n",
       "      <td>18.92</td>\n",
       "      <td>370</td>\n",
       "      <td>127.83</td>\n",
       "      <td>0</td>\n",
       "      <td>1</td>\n",
       "      <td>5</td>\n",
       "      <td>37</td>\n",
       "    </tr>\n",
       "    <tr>\n",
       "      <th>27</th>\n",
       "      <td>Hussain Talat</td>\n",
       "      <td>2017-2020</td>\n",
       "      <td>29</td>\n",
       "      <td>24</td>\n",
       "      <td>4</td>\n",
       "      <td>463</td>\n",
       "      <td>56</td>\n",
       "      <td>23.15</td>\n",
       "      <td>374</td>\n",
       "      <td>123.79</td>\n",
       "      <td>0</td>\n",
       "      <td>1</td>\n",
       "      <td>2</td>\n",
       "      <td>35</td>\n",
       "    </tr>\n",
       "    <tr>\n",
       "      <th>28</th>\n",
       "      <td>Shahid Afridi</td>\n",
       "      <td>2016-2020</td>\n",
       "      <td>46</td>\n",
       "      <td>35</td>\n",
       "      <td>8</td>\n",
       "      <td>462</td>\n",
       "      <td>54</td>\n",
       "      <td>17.11</td>\n",
       "      <td>297</td>\n",
       "      <td>155.55</td>\n",
       "      <td>0</td>\n",
       "      <td>1</td>\n",
       "      <td>4</td>\n",
       "      <td>23</td>\n",
       "    </tr>\n",
       "    <tr>\n",
       "      <th>29</th>\n",
       "      <td>JJ Roy</td>\n",
       "      <td>2017-2020</td>\n",
       "      <td>15</td>\n",
       "      <td>15</td>\n",
       "      <td>2</td>\n",
       "      <td>459</td>\n",
       "      <td>73*</td>\n",
       "      <td>35.30</td>\n",
       "      <td>356</td>\n",
       "      <td>128.93</td>\n",
       "      <td>0</td>\n",
       "      <td>4</td>\n",
       "      <td>1</td>\n",
       "      <td>51</td>\n",
       "    </tr>\n",
       "    <tr>\n",
       "      <th>30</th>\n",
       "      <td>Shadab Khan</td>\n",
       "      <td>2017-2020</td>\n",
       "      <td>41</td>\n",
       "      <td>32</td>\n",
       "      <td>6</td>\n",
       "      <td>438</td>\n",
       "      <td>77</td>\n",
       "      <td>16.84</td>\n",
       "      <td>326</td>\n",
       "      <td>134.35</td>\n",
       "      <td>0</td>\n",
       "      <td>3</td>\n",
       "      <td>4</td>\n",
       "      <td>22</td>\n",
       "    </tr>\n",
       "    <tr>\n",
       "      <th>31</th>\n",
       "      <td>Imam-ul-Haq</td>\n",
       "      <td>2019-2020</td>\n",
       "      <td>16</td>\n",
       "      <td>16</td>\n",
       "      <td>0</td>\n",
       "      <td>435</td>\n",
       "      <td>59</td>\n",
       "      <td>27.18</td>\n",
       "      <td>338</td>\n",
       "      <td>128.69</td>\n",
       "      <td>0</td>\n",
       "      <td>5</td>\n",
       "      <td>0</td>\n",
       "      <td>40</td>\n",
       "    </tr>\n",
       "    <tr>\n",
       "      <th>32</th>\n",
       "      <td>Mohammad Nawaz</td>\n",
       "      <td>2016-2020</td>\n",
       "      <td>52</td>\n",
       "      <td>36</td>\n",
       "      <td>12</td>\n",
       "      <td>432</td>\n",
       "      <td>42</td>\n",
       "      <td>18.00</td>\n",
       "      <td>410</td>\n",
       "      <td>105.36</td>\n",
       "      <td>0</td>\n",
       "      <td>0</td>\n",
       "      <td>2</td>\n",
       "      <td>34</td>\n",
       "    </tr>\n",
       "    <tr>\n",
       "      <th>33</th>\n",
       "      <td>LS Livingstone</td>\n",
       "      <td>2019-2020</td>\n",
       "      <td>19</td>\n",
       "      <td>18</td>\n",
       "      <td>3</td>\n",
       "      <td>429</td>\n",
       "      <td>82</td>\n",
       "      <td>28.60</td>\n",
       "      <td>318</td>\n",
       "      <td>134.90</td>\n",
       "      <td>0</td>\n",
       "      <td>4</td>\n",
       "      <td>2</td>\n",
       "      <td>31</td>\n",
       "    </tr>\n",
       "    <tr>\n",
       "      <th>34</th>\n",
       "      <td>BR Dunk</td>\n",
       "      <td>2019-2020</td>\n",
       "      <td>18</td>\n",
       "      <td>17</td>\n",
       "      <td>4</td>\n",
       "      <td>424</td>\n",
       "      <td>99*</td>\n",
       "      <td>32.61</td>\n",
       "      <td>274</td>\n",
       "      <td>154.74</td>\n",
       "      <td>0</td>\n",
       "      <td>2</td>\n",
       "      <td>0</td>\n",
       "      <td>28</td>\n",
       "    </tr>\n",
       "    <tr>\n",
       "      <th>35</th>\n",
       "      <td>Sohaib Maqsood</td>\n",
       "      <td>2016-2020</td>\n",
       "      <td>24</td>\n",
       "      <td>22</td>\n",
       "      <td>4</td>\n",
       "      <td>403</td>\n",
       "      <td>85*</td>\n",
       "      <td>22.38</td>\n",
       "      <td>357</td>\n",
       "      <td>112.88</td>\n",
       "      <td>0</td>\n",
       "      <td>2</td>\n",
       "      <td>3</td>\n",
       "      <td>31</td>\n",
       "    </tr>\n",
       "    <tr>\n",
       "      <th>36</th>\n",
       "      <td>AD Hales</td>\n",
       "      <td>2018-2020</td>\n",
       "      <td>15</td>\n",
       "      <td>13</td>\n",
       "      <td>1</td>\n",
       "      <td>401</td>\n",
       "      <td>80*</td>\n",
       "      <td>33.41</td>\n",
       "      <td>295</td>\n",
       "      <td>135.93</td>\n",
       "      <td>0</td>\n",
       "      <td>2</td>\n",
       "      <td>0</td>\n",
       "      <td>41</td>\n",
       "    </tr>\n",
       "    <tr>\n",
       "      <th>37</th>\n",
       "      <td>Mohammad Rizwan</td>\n",
       "      <td>2016-2020</td>\n",
       "      <td>35</td>\n",
       "      <td>24</td>\n",
       "      <td>7</td>\n",
       "      <td>400</td>\n",
       "      <td>50*</td>\n",
       "      <td>23.52</td>\n",
       "      <td>345</td>\n",
       "      <td>115.94</td>\n",
       "      <td>0</td>\n",
       "      <td>1</td>\n",
       "      <td>1</td>\n",
       "      <td>26</td>\n",
       "    </tr>\n",
       "    <tr>\n",
       "      <th>38</th>\n",
       "      <td>Shan Masood</td>\n",
       "      <td>2019-2020</td>\n",
       "      <td>15</td>\n",
       "      <td>14</td>\n",
       "      <td>0</td>\n",
       "      <td>395</td>\n",
       "      <td>61</td>\n",
       "      <td>28.21</td>\n",
       "      <td>302</td>\n",
       "      <td>130.79</td>\n",
       "      <td>0</td>\n",
       "      <td>1</td>\n",
       "      <td>0</td>\n",
       "      <td>47</td>\n",
       "    </tr>\n",
       "    <tr>\n",
       "      <th>39</th>\n",
       "      <td>LA Dawson</td>\n",
       "      <td>2018-2020</td>\n",
       "      <td>24</td>\n",
       "      <td>19</td>\n",
       "      <td>3</td>\n",
       "      <td>363</td>\n",
       "      <td>62</td>\n",
       "      <td>22.68</td>\n",
       "      <td>289</td>\n",
       "      <td>125.60</td>\n",
       "      <td>0</td>\n",
       "      <td>2</td>\n",
       "      <td>2</td>\n",
       "      <td>18</td>\n",
       "    </tr>\n",
       "    <tr>\n",
       "      <th>40</th>\n",
       "      <td>SR Patel</td>\n",
       "      <td>2018-2020</td>\n",
       "      <td>29</td>\n",
       "      <td>19</td>\n",
       "      <td>6</td>\n",
       "      <td>363</td>\n",
       "      <td>71</td>\n",
       "      <td>27.92</td>\n",
       "      <td>296</td>\n",
       "      <td>122.63</td>\n",
       "      <td>0</td>\n",
       "      <td>1</td>\n",
       "      <td>0</td>\n",
       "      <td>46</td>\n",
       "    </tr>\n",
       "    <tr>\n",
       "      <th>41</th>\n",
       "      <td>CAK Walton</td>\n",
       "      <td>2018-2020</td>\n",
       "      <td>21</td>\n",
       "      <td>19</td>\n",
       "      <td>2</td>\n",
       "      <td>362</td>\n",
       "      <td>48</td>\n",
       "      <td>21.29</td>\n",
       "      <td>256</td>\n",
       "      <td>141.40</td>\n",
       "      <td>0</td>\n",
       "      <td>0</td>\n",
       "      <td>2</td>\n",
       "      <td>30</td>\n",
       "    </tr>\n",
       "    <tr>\n",
       "      <th>42</th>\n",
       "      <td>C Munro</td>\n",
       "      <td>2019-2020</td>\n",
       "      <td>16</td>\n",
       "      <td>16</td>\n",
       "      <td>1</td>\n",
       "      <td>343</td>\n",
       "      <td>87*</td>\n",
       "      <td>22.86</td>\n",
       "      <td>245</td>\n",
       "      <td>140.00</td>\n",
       "      <td>0</td>\n",
       "      <td>3</td>\n",
       "      <td>3</td>\n",
       "      <td>27</td>\n",
       "    </tr>\n",
       "    <tr>\n",
       "      <th>43</th>\n",
       "      <td>BJ Haddin</td>\n",
       "      <td>2016-2017</td>\n",
       "      <td>17</td>\n",
       "      <td>17</td>\n",
       "      <td>4</td>\n",
       "      <td>327</td>\n",
       "      <td>73</td>\n",
       "      <td>25.15</td>\n",
       "      <td>250</td>\n",
       "      <td>130.80</td>\n",
       "      <td>0</td>\n",
       "      <td>4</td>\n",
       "      <td>2</td>\n",
       "      <td>25</td>\n",
       "    </tr>\n",
       "    <tr>\n",
       "      <th>44</th>\n",
       "      <td>JL Denly</td>\n",
       "      <td>2018-2018</td>\n",
       "      <td>12</td>\n",
       "      <td>11</td>\n",
       "      <td>1</td>\n",
       "      <td>323</td>\n",
       "      <td>79*</td>\n",
       "      <td>32.30</td>\n",
       "      <td>257</td>\n",
       "      <td>125.68</td>\n",
       "      <td>0</td>\n",
       "      <td>3</td>\n",
       "      <td>1</td>\n",
       "      <td>40</td>\n",
       "    </tr>\n",
       "    <tr>\n",
       "      <th>45</th>\n",
       "      <td>Umar Amin</td>\n",
       "      <td>2016-2020</td>\n",
       "      <td>20</td>\n",
       "      <td>17</td>\n",
       "      <td>4</td>\n",
       "      <td>319</td>\n",
       "      <td>61*</td>\n",
       "      <td>24.53</td>\n",
       "      <td>292</td>\n",
       "      <td>109.24</td>\n",
       "      <td>0</td>\n",
       "      <td>2</td>\n",
       "      <td>2</td>\n",
       "      <td>35</td>\n",
       "    </tr>\n",
       "    <tr>\n",
       "      <th>46</th>\n",
       "      <td>BB McCullum</td>\n",
       "      <td>2017-2018</td>\n",
       "      <td>18</td>\n",
       "      <td>17</td>\n",
       "      <td>2</td>\n",
       "      <td>311</td>\n",
       "      <td>44</td>\n",
       "      <td>20.73</td>\n",
       "      <td>272</td>\n",
       "      <td>114.33</td>\n",
       "      <td>0</td>\n",
       "      <td>0</td>\n",
       "      <td>3</td>\n",
       "      <td>28</td>\n",
       "    </tr>\n",
       "    <tr>\n",
       "      <th>47</th>\n",
       "      <td>Faheem Ashraf</td>\n",
       "      <td>2018-2020</td>\n",
       "      <td>31</td>\n",
       "      <td>23</td>\n",
       "      <td>10</td>\n",
       "      <td>290</td>\n",
       "      <td>54*</td>\n",
       "      <td>22.30</td>\n",
       "      <td>203</td>\n",
       "      <td>142.85</td>\n",
       "      <td>0</td>\n",
       "      <td>1</td>\n",
       "      <td>1</td>\n",
       "      <td>24</td>\n",
       "    </tr>\n",
       "    <tr>\n",
       "      <th>48</th>\n",
       "      <td>CA Lynn</td>\n",
       "      <td>2020-2020</td>\n",
       "      <td>8</td>\n",
       "      <td>8</td>\n",
       "      <td>1</td>\n",
       "      <td>284</td>\n",
       "      <td>113*</td>\n",
       "      <td>40.57</td>\n",
       "      <td>158</td>\n",
       "      <td>179.74</td>\n",
       "      <td>1</td>\n",
       "      <td>1</td>\n",
       "      <td>1</td>\n",
       "      <td>32</td>\n",
       "    </tr>\n",
       "    <tr>\n",
       "      <th>49</th>\n",
       "      <td>Asad Shafiq</td>\n",
       "      <td>2016-2020</td>\n",
       "      <td>17</td>\n",
       "      <td>16</td>\n",
       "      <td>1</td>\n",
       "      <td>280</td>\n",
       "      <td>51</td>\n",
       "      <td>18.66</td>\n",
       "      <td>267</td>\n",
       "      <td>104.86</td>\n",
       "      <td>0</td>\n",
       "      <td>1</td>\n",
       "      <td>1</td>\n",
       "      <td>31</td>\n",
       "    </tr>\n",
       "  </tbody>\n",
       "</table>\n",
       "</div>"
      ],
      "text/plain": [
       "             Player       Span  Match  Inns  Not Outs  Runs    HS    Ave  \\\n",
       "0      Kamran Akmal  2016-2020     56    55         2  1537  107*  29.00   \n",
       "1        Babar Azam  2016-2020     47    45         5  1516    78  37.90   \n",
       "2         SR Watson  2016-2020     46    46         4  1361   91*  32.40   \n",
       "3      Shoaib Malik  2016-2020     48    44         8  1127    68  31.30   \n",
       "4     Ahmed Shehzad  2016-2020     45    43         2  1077    99  26.26   \n",
       "5      Fakhar Zaman  2017-2020     40    40         0  1064    94  26.60   \n",
       "6          L Ronchi  2018-2020     31    31         3  1020   94*  36.42   \n",
       "7   Mohammad Hafeez  2016-2020     48    45         6  1002   98*  25.69   \n",
       "8        RR Rossouw  2017-2020     40    37         9   962  100*  34.35   \n",
       "9    Sarfaraz Ahmed  2016-2020     52    43        12   868   56*  28.00   \n",
       "10       CS Delport  2016-2020     34    33         2   860  117*  27.74   \n",
       "11       Umar Akmal  2016-2019     32    30         5   833    93  33.32   \n",
       "12        CA Ingram  2018-2020     32    31         7   793  127*  33.04   \n",
       "13         DR Smith  2016-2019     28    25         4   701    73  33.38   \n",
       "14        DJG Sammy  2016-2020     49    39        12   691    48  25.59   \n",
       "15        RS Bopara  2016-2020     37    34         8   667   71*  25.65   \n",
       "16         Asif Ali  2016-2020     43    36        10   655    70  25.19   \n",
       "17       KA Pollard  2017-2019     33    30        10   650    73  32.50   \n",
       "18    Sohail Akhtar  2018-2020     32    30         9   625    75  29.76   \n",
       "19    KC Sangakkara  2016-2018     24    23         1   613    65  27.86   \n",
       "20     KP Pietersen  2016-2018     27    25         2   611   88*  26.56   \n",
       "21      Tamim Iqbal  2016-2020     20    20         4   605   80*  37.81   \n",
       "22    Sharjeel Khan  2016-2020     24    23         2   516   117  24.57   \n",
       "23         DJ Malan  2016-2020     20    20         3   508    64  29.88   \n",
       "24    Misbah-ul-Haq  2016-2019     29    22         6   507   61*  31.68   \n",
       "25         JM Vince  2016-2020     20    20         1   497    84  26.15   \n",
       "26       Imad Wasim  2016-2020     48    39        14   473    50  18.92   \n",
       "27    Hussain Talat  2017-2020     29    24         4   463    56  23.15   \n",
       "28    Shahid Afridi  2016-2020     46    35         8   462    54  17.11   \n",
       "29           JJ Roy  2017-2020     15    15         2   459   73*  35.30   \n",
       "30      Shadab Khan  2017-2020     41    32         6   438    77  16.84   \n",
       "31      Imam-ul-Haq  2019-2020     16    16         0   435    59  27.18   \n",
       "32   Mohammad Nawaz  2016-2020     52    36        12   432    42  18.00   \n",
       "33   LS Livingstone  2019-2020     19    18         3   429    82  28.60   \n",
       "34          BR Dunk  2019-2020     18    17         4   424   99*  32.61   \n",
       "35   Sohaib Maqsood  2016-2020     24    22         4   403   85*  22.38   \n",
       "36         AD Hales  2018-2020     15    13         1   401   80*  33.41   \n",
       "37  Mohammad Rizwan  2016-2020     35    24         7   400   50*  23.52   \n",
       "38      Shan Masood  2019-2020     15    14         0   395    61  28.21   \n",
       "39        LA Dawson  2018-2020     24    19         3   363    62  22.68   \n",
       "40         SR Patel  2018-2020     29    19         6   363    71  27.92   \n",
       "41       CAK Walton  2018-2020     21    19         2   362    48  21.29   \n",
       "42          C Munro  2019-2020     16    16         1   343   87*  22.86   \n",
       "43        BJ Haddin  2016-2017     17    17         4   327    73  25.15   \n",
       "44         JL Denly  2018-2018     12    11         1   323   79*  32.30   \n",
       "45        Umar Amin  2016-2020     20    17         4   319   61*  24.53   \n",
       "46      BB McCullum  2017-2018     18    17         2   311    44  20.73   \n",
       "47    Faheem Ashraf  2018-2020     31    23        10   290   54*  22.30   \n",
       "48          CA Lynn  2020-2020      8     8         1   284  113*  40.57   \n",
       "49      Asad Shafiq  2016-2020     17    16         1   280    51  18.66   \n",
       "\n",
       "      BF      SR  100  50  0   4s  \n",
       "0   1111  138.34    3   9  8  158  \n",
       "1   1285  117.97    0  14  5  163  \n",
       "2    982  138.59    0   9  2  123  \n",
       "3    919  122.63    0   7  2   74  \n",
       "4    897  120.06    0   9  4  109  \n",
       "5    775  137.29    0   7  3  111  \n",
       "6    614  166.12    0  10  4  116  \n",
       "7    854  117.33    0   6  4   97  \n",
       "8    734  131.06    1   3  2   85  \n",
       "9    694  125.07    0   3  2   74  \n",
       "10   666  129.12    1   5  4   79  \n",
       "11   604  137.91    0   7  3   66  \n",
       "12   519  152.79    1   3  1   67  \n",
       "13   611  114.72    0   5  1   67  \n",
       "14   472  146.39    0   0  2   48  \n",
       "15   574  116.20    0   3  1   51  \n",
       "16   401  163.34    0   2  3   39  \n",
       "17   391  166.24    0   3  2   48  \n",
       "18   492  127.03    0   3  0   55  \n",
       "19   485  126.39    0   5  2   64  \n",
       "20   439  139.17    0   4  4   43  \n",
       "21   535  113.08    0   4  0   61  \n",
       "22   362  142.54    1   2  1   45  \n",
       "23   428  118.69    0   3  0   50  \n",
       "24   453  111.92    0   2  0   42  \n",
       "25   359  138.44    0   2  1   60  \n",
       "26   370  127.83    0   1  5   37  \n",
       "27   374  123.79    0   1  2   35  \n",
       "28   297  155.55    0   1  4   23  \n",
       "29   356  128.93    0   4  1   51  \n",
       "30   326  134.35    0   3  4   22  \n",
       "31   338  128.69    0   5  0   40  \n",
       "32   410  105.36    0   0  2   34  \n",
       "33   318  134.90    0   4  2   31  \n",
       "34   274  154.74    0   2  0   28  \n",
       "35   357  112.88    0   2  3   31  \n",
       "36   295  135.93    0   2  0   41  \n",
       "37   345  115.94    0   1  1   26  \n",
       "38   302  130.79    0   1  0   47  \n",
       "39   289  125.60    0   2  2   18  \n",
       "40   296  122.63    0   1  0   46  \n",
       "41   256  141.40    0   0  2   30  \n",
       "42   245  140.00    0   3  3   27  \n",
       "43   250  130.80    0   4  2   25  \n",
       "44   257  125.68    0   3  1   40  \n",
       "45   292  109.24    0   2  2   35  \n",
       "46   272  114.33    0   0  3   28  \n",
       "47   203  142.85    0   1  1   24  \n",
       "48   158  179.74    1   1  1   32  \n",
       "49   267  104.86    0   1  1   31  "
      ]
     },
     "execution_count": 3,
     "metadata": {},
     "output_type": "execute_result"
    }
   ],
   "source": [
    "df = pd.read_csv('Most runs by a player in PSL.csv')\n",
    "df"
   ]
  },
  {
   "cell_type": "code",
   "execution_count": 5,
   "metadata": {},
   "outputs": [
    {
     "data": {
      "text/plain": [
       "Player      0\n",
       "Span        0\n",
       "Match       0\n",
       "Inns        0\n",
       "Not Outs    0\n",
       "Runs        0\n",
       "HS          0\n",
       "Ave         0\n",
       "BF          0\n",
       "SR          0\n",
       "100         0\n",
       "50          0\n",
       "0           0\n",
       "4s          0\n",
       "dtype: int64"
      ]
     },
     "execution_count": 5,
     "metadata": {},
     "output_type": "execute_result"
    }
   ],
   "source": [
    "df.isnull().sum()"
   ]
  },
  {
   "cell_type": "code",
   "execution_count": 9,
   "metadata": {},
   "outputs": [],
   "source": [
    "df['HS'] = df['HS'].replace({'91*':91 , '94*':94, '98*':98, '100*':100, '56*':56,\n",
    "       '117*':117 , '71*':71 , '88*':88,'80*':80, '73*':73, '99*':99, '85*':85, '50*':50 , '87*':87,\n",
    "       '79*':79, '54*':54, '113*':113 , '61*':61 , '127*':127 , '107*':107})"
   ]
  },
  {
   "cell_type": "code",
   "execution_count": 10,
   "metadata": {},
   "outputs": [
    {
     "data": {
      "text/plain": [
       "Index(['Player', 'Span', 'Match', 'Inns', 'Not Outs', 'Runs', 'HS', 'Ave',\n",
       "       'BF', 'SR', '100', '50', '0', '4s'],\n",
       "      dtype='object')"
      ]
     },
     "execution_count": 10,
     "metadata": {},
     "output_type": "execute_result"
    }
   ],
   "source": [
    "df.columns"
   ]
  },
  {
   "cell_type": "code",
   "execution_count": 11,
   "metadata": {},
   "outputs": [],
   "source": [
    "import plotly.express as px"
   ]
  },
  {
   "cell_type": "code",
   "execution_count": null,
   "metadata": {},
   "outputs": [],
   "source": [
    "import plotly.express as px\n",
    "df = px.data.gapminder()\n",
    "px.scatter(df, x=\"gdpPercap\", y=\"lifeExp\", animation_frame=\"year\", animation_group=\"country\",\n",
    "           size=\"pop\", color=\"continent\", hover_name=\"country\",\n",
    "           log_x=True, size_max=55, range_x=[100,100000], range_y=[25,90])"
   ]
  },
  {
   "cell_type": "code",
   "execution_count": 48,
   "metadata": {},
   "outputs": [
    {
     "data": {
      "application/vnd.plotly.v1+json": {
       "config": {
        "plotlyServerURL": "https://plot.ly"
       },
       "data": [
        {
         "customdata": [
          [
           "Kamran Akmal"
          ],
          [
           "Babar Azam"
          ],
          [
           "SR Watson"
          ],
          [
           "Shoaib Malik"
          ],
          [
           "Ahmed Shehzad"
          ],
          [
           "Mohammad Hafeez"
          ],
          [
           "Sarfaraz Ahmed"
          ],
          [
           "CS Delport"
          ],
          [
           "DJG Sammy"
          ],
          [
           "RS Bopara"
          ],
          [
           "Asif Ali"
          ],
          [
           "Tamim Iqbal"
          ],
          [
           "Sharjeel Khan"
          ],
          [
           "DJ Malan"
          ],
          [
           "JM Vince"
          ],
          [
           "Imad Wasim"
          ],
          [
           "Shahid Afridi"
          ],
          [
           "Mohammad Nawaz"
          ],
          [
           "Sohaib Maqsood"
          ],
          [
           "Mohammad Rizwan"
          ],
          [
           "Umar Amin"
          ],
          [
           "Asad Shafiq"
          ]
         ],
         "hovertemplate": "Span=2016-2020<br>Match=%{x}<br>Runs=%{y}<br>Ave=%{marker.size}<br>Player=%{customdata[0]}<br>50=%{marker.color}<extra></extra>",
         "ids": [
          "Kamran Akmal",
          "Babar Azam",
          "SR Watson",
          "Shoaib Malik",
          "Ahmed Shehzad",
          "Mohammad Hafeez",
          "Sarfaraz Ahmed",
          "CS Delport",
          "DJG Sammy",
          "RS Bopara",
          "Asif Ali",
          "Tamim Iqbal",
          "Sharjeel Khan",
          "DJ Malan",
          "JM Vince",
          "Imad Wasim",
          "Shahid Afridi",
          "Mohammad Nawaz",
          "Sohaib Maqsood",
          "Mohammad Rizwan",
          "Umar Amin",
          "Asad Shafiq"
         ],
         "legendgroup": "",
         "marker": {
          "color": [
           9,
           14,
           9,
           7,
           9,
           6,
           3,
           5,
           0,
           3,
           2,
           4,
           2,
           3,
           2,
           1,
           1,
           0,
           2,
           1,
           2,
           1
          ],
          "coloraxis": "coloraxis",
          "size": [
           29,
           37.9,
           32.4,
           31.3,
           26.26,
           25.69,
           28,
           27.74,
           25.59,
           25.65,
           25.19,
           37.81,
           24.57,
           29.88,
           26.15,
           18.92,
           17.11,
           18,
           22.38,
           23.52,
           24.53,
           18.66
          ],
          "sizemode": "area",
          "sizeref": 0.101425,
          "symbol": "circle"
         },
         "mode": "markers",
         "name": "",
         "orientation": "v",
         "showlegend": false,
         "type": "scatter",
         "x": [
          56,
          47,
          46,
          48,
          45,
          48,
          52,
          34,
          49,
          37,
          43,
          20,
          24,
          20,
          20,
          48,
          46,
          52,
          24,
          35,
          20,
          17
         ],
         "xaxis": "x",
         "y": [
          1537,
          1516,
          1361,
          1127,
          1077,
          1002,
          868,
          860,
          691,
          667,
          655,
          605,
          516,
          508,
          497,
          473,
          462,
          432,
          403,
          400,
          319,
          280
         ],
         "yaxis": "y"
        }
       ],
       "frames": [
        {
         "data": [
          {
           "customdata": [
            [
             "Kamran Akmal"
            ],
            [
             "Babar Azam"
            ],
            [
             "SR Watson"
            ],
            [
             "Shoaib Malik"
            ],
            [
             "Ahmed Shehzad"
            ],
            [
             "Mohammad Hafeez"
            ],
            [
             "Sarfaraz Ahmed"
            ],
            [
             "CS Delport"
            ],
            [
             "DJG Sammy"
            ],
            [
             "RS Bopara"
            ],
            [
             "Asif Ali"
            ],
            [
             "Tamim Iqbal"
            ],
            [
             "Sharjeel Khan"
            ],
            [
             "DJ Malan"
            ],
            [
             "JM Vince"
            ],
            [
             "Imad Wasim"
            ],
            [
             "Shahid Afridi"
            ],
            [
             "Mohammad Nawaz"
            ],
            [
             "Sohaib Maqsood"
            ],
            [
             "Mohammad Rizwan"
            ],
            [
             "Umar Amin"
            ],
            [
             "Asad Shafiq"
            ]
           ],
           "hovertemplate": "Span=2016-2020<br>Match=%{x}<br>Runs=%{y}<br>Ave=%{marker.size}<br>Player=%{customdata[0]}<br>50=%{marker.color}<extra></extra>",
           "ids": [
            "Kamran Akmal",
            "Babar Azam",
            "SR Watson",
            "Shoaib Malik",
            "Ahmed Shehzad",
            "Mohammad Hafeez",
            "Sarfaraz Ahmed",
            "CS Delport",
            "DJG Sammy",
            "RS Bopara",
            "Asif Ali",
            "Tamim Iqbal",
            "Sharjeel Khan",
            "DJ Malan",
            "JM Vince",
            "Imad Wasim",
            "Shahid Afridi",
            "Mohammad Nawaz",
            "Sohaib Maqsood",
            "Mohammad Rizwan",
            "Umar Amin",
            "Asad Shafiq"
           ],
           "legendgroup": "",
           "marker": {
            "color": [
             9,
             14,
             9,
             7,
             9,
             6,
             3,
             5,
             0,
             3,
             2,
             4,
             2,
             3,
             2,
             1,
             1,
             0,
             2,
             1,
             2,
             1
            ],
            "coloraxis": "coloraxis",
            "size": [
             29,
             37.9,
             32.4,
             31.3,
             26.26,
             25.69,
             28,
             27.74,
             25.59,
             25.65,
             25.19,
             37.81,
             24.57,
             29.88,
             26.15,
             18.92,
             17.11,
             18,
             22.38,
             23.52,
             24.53,
             18.66
            ],
            "sizemode": "area",
            "sizeref": 0.101425,
            "symbol": "circle"
           },
           "mode": "markers",
           "name": "",
           "orientation": "v",
           "showlegend": false,
           "type": "scatter",
           "x": [
            56,
            47,
            46,
            48,
            45,
            48,
            52,
            34,
            49,
            37,
            43,
            20,
            24,
            20,
            20,
            48,
            46,
            52,
            24,
            35,
            20,
            17
           ],
           "xaxis": "x",
           "y": [
            1537,
            1516,
            1361,
            1127,
            1077,
            1002,
            868,
            860,
            691,
            667,
            655,
            605,
            516,
            508,
            497,
            473,
            462,
            432,
            403,
            400,
            319,
            280
           ],
           "yaxis": "y"
          }
         ],
         "name": "2016-2020"
        },
        {
         "data": [
          {
           "customdata": [
            [
             "Fakhar Zaman"
            ],
            [
             "RR Rossouw"
            ],
            [
             "Hussain Talat"
            ],
            [
             "JJ Roy"
            ],
            [
             "Shadab Khan"
            ]
           ],
           "hovertemplate": "Span=2017-2020<br>Match=%{x}<br>Runs=%{y}<br>Ave=%{marker.size}<br>Player=%{customdata[0]}<br>50=%{marker.color}<extra></extra>",
           "ids": [
            "Fakhar Zaman",
            "RR Rossouw",
            "Hussain Talat",
            "JJ Roy",
            "Shadab Khan"
           ],
           "legendgroup": "",
           "marker": {
            "color": [
             7,
             3,
             1,
             4,
             3
            ],
            "coloraxis": "coloraxis",
            "size": [
             26.6,
             34.35,
             23.15,
             35.3,
             16.84
            ],
            "sizemode": "area",
            "sizeref": 0.101425,
            "symbol": "circle"
           },
           "mode": "markers",
           "name": "",
           "orientation": "v",
           "showlegend": false,
           "type": "scatter",
           "x": [
            40,
            40,
            29,
            15,
            41
           ],
           "xaxis": "x",
           "y": [
            1064,
            962,
            463,
            459,
            438
           ],
           "yaxis": "y"
          }
         ],
         "name": "2017-2020"
        },
        {
         "data": [
          {
           "customdata": [
            [
             "L Ronchi"
            ],
            [
             "CA Ingram"
            ],
            [
             "Sohail Akhtar"
            ],
            [
             "AD Hales"
            ],
            [
             "LA Dawson"
            ],
            [
             "SR Patel"
            ],
            [
             "CAK Walton"
            ],
            [
             "Faheem Ashraf"
            ]
           ],
           "hovertemplate": "Span=2018-2020<br>Match=%{x}<br>Runs=%{y}<br>Ave=%{marker.size}<br>Player=%{customdata[0]}<br>50=%{marker.color}<extra></extra>",
           "ids": [
            "L Ronchi",
            "CA Ingram",
            "Sohail Akhtar",
            "AD Hales",
            "LA Dawson",
            "SR Patel",
            "CAK Walton",
            "Faheem Ashraf"
           ],
           "legendgroup": "",
           "marker": {
            "color": [
             10,
             3,
             3,
             2,
             2,
             1,
             0,
             1
            ],
            "coloraxis": "coloraxis",
            "size": [
             36.42,
             33.04,
             29.76,
             33.41,
             22.68,
             27.92,
             21.29,
             22.3
            ],
            "sizemode": "area",
            "sizeref": 0.101425,
            "symbol": "circle"
           },
           "mode": "markers",
           "name": "",
           "orientation": "v",
           "showlegend": false,
           "type": "scatter",
           "x": [
            31,
            32,
            32,
            15,
            24,
            29,
            21,
            31
           ],
           "xaxis": "x",
           "y": [
            1020,
            793,
            625,
            401,
            363,
            363,
            362,
            290
           ],
           "yaxis": "y"
          }
         ],
         "name": "2018-2020"
        },
        {
         "data": [
          {
           "customdata": [
            [
             "Umar Akmal"
            ],
            [
             "DR Smith"
            ],
            [
             "Misbah-ul-Haq"
            ]
           ],
           "hovertemplate": "Span=2016-2019<br>Match=%{x}<br>Runs=%{y}<br>Ave=%{marker.size}<br>Player=%{customdata[0]}<br>50=%{marker.color}<extra></extra>",
           "ids": [
            "Umar Akmal",
            "DR Smith",
            "Misbah-ul-Haq"
           ],
           "legendgroup": "",
           "marker": {
            "color": [
             7,
             5,
             2
            ],
            "coloraxis": "coloraxis",
            "size": [
             33.32,
             33.38,
             31.68
            ],
            "sizemode": "area",
            "sizeref": 0.101425,
            "symbol": "circle"
           },
           "mode": "markers",
           "name": "",
           "orientation": "v",
           "showlegend": false,
           "type": "scatter",
           "x": [
            32,
            28,
            29
           ],
           "xaxis": "x",
           "y": [
            833,
            701,
            507
           ],
           "yaxis": "y"
          }
         ],
         "name": "2016-2019"
        },
        {
         "data": [
          {
           "customdata": [
            [
             "KA Pollard"
            ]
           ],
           "hovertemplate": "Span=2017-2019<br>Match=%{x}<br>Runs=%{y}<br>Ave=%{marker.size}<br>Player=%{customdata[0]}<br>50=%{marker.color}<extra></extra>",
           "ids": [
            "KA Pollard"
           ],
           "legendgroup": "",
           "marker": {
            "color": [
             3
            ],
            "coloraxis": "coloraxis",
            "size": [
             32.5
            ],
            "sizemode": "area",
            "sizeref": 0.101425,
            "symbol": "circle"
           },
           "mode": "markers",
           "name": "",
           "orientation": "v",
           "showlegend": false,
           "type": "scatter",
           "x": [
            33
           ],
           "xaxis": "x",
           "y": [
            650
           ],
           "yaxis": "y"
          }
         ],
         "name": "2017-2019"
        },
        {
         "data": [
          {
           "customdata": [
            [
             "KC Sangakkara"
            ],
            [
             "KP Pietersen"
            ]
           ],
           "hovertemplate": "Span=2016-2018<br>Match=%{x}<br>Runs=%{y}<br>Ave=%{marker.size}<br>Player=%{customdata[0]}<br>50=%{marker.color}<extra></extra>",
           "ids": [
            "KC Sangakkara",
            "KP Pietersen"
           ],
           "legendgroup": "",
           "marker": {
            "color": [
             5,
             4
            ],
            "coloraxis": "coloraxis",
            "size": [
             27.86,
             26.56
            ],
            "sizemode": "area",
            "sizeref": 0.101425,
            "symbol": "circle"
           },
           "mode": "markers",
           "name": "",
           "orientation": "v",
           "showlegend": false,
           "type": "scatter",
           "x": [
            24,
            27
           ],
           "xaxis": "x",
           "y": [
            613,
            611
           ],
           "yaxis": "y"
          }
         ],
         "name": "2016-2018"
        },
        {
         "data": [
          {
           "customdata": [
            [
             "Imam-ul-Haq"
            ],
            [
             "LS Livingstone"
            ],
            [
             "BR Dunk"
            ],
            [
             "Shan Masood"
            ],
            [
             "C Munro"
            ]
           ],
           "hovertemplate": "Span=2019-2020<br>Match=%{x}<br>Runs=%{y}<br>Ave=%{marker.size}<br>Player=%{customdata[0]}<br>50=%{marker.color}<extra></extra>",
           "ids": [
            "Imam-ul-Haq",
            "LS Livingstone",
            "BR Dunk",
            "Shan Masood",
            "C Munro"
           ],
           "legendgroup": "",
           "marker": {
            "color": [
             5,
             4,
             2,
             1,
             3
            ],
            "coloraxis": "coloraxis",
            "size": [
             27.18,
             28.6,
             32.61,
             28.21,
             22.86
            ],
            "sizemode": "area",
            "sizeref": 0.101425,
            "symbol": "circle"
           },
           "mode": "markers",
           "name": "",
           "orientation": "v",
           "showlegend": false,
           "type": "scatter",
           "x": [
            16,
            19,
            18,
            15,
            16
           ],
           "xaxis": "x",
           "y": [
            435,
            429,
            424,
            395,
            343
           ],
           "yaxis": "y"
          }
         ],
         "name": "2019-2020"
        },
        {
         "data": [
          {
           "customdata": [
            [
             "BJ Haddin"
            ]
           ],
           "hovertemplate": "Span=2016-2017<br>Match=%{x}<br>Runs=%{y}<br>Ave=%{marker.size}<br>Player=%{customdata[0]}<br>50=%{marker.color}<extra></extra>",
           "ids": [
            "BJ Haddin"
           ],
           "legendgroup": "",
           "marker": {
            "color": [
             4
            ],
            "coloraxis": "coloraxis",
            "size": [
             25.15
            ],
            "sizemode": "area",
            "sizeref": 0.101425,
            "symbol": "circle"
           },
           "mode": "markers",
           "name": "",
           "orientation": "v",
           "showlegend": false,
           "type": "scatter",
           "x": [
            17
           ],
           "xaxis": "x",
           "y": [
            327
           ],
           "yaxis": "y"
          }
         ],
         "name": "2016-2017"
        },
        {
         "data": [
          {
           "customdata": [
            [
             "JL Denly"
            ]
           ],
           "hovertemplate": "Span=2018-2018<br>Match=%{x}<br>Runs=%{y}<br>Ave=%{marker.size}<br>Player=%{customdata[0]}<br>50=%{marker.color}<extra></extra>",
           "ids": [
            "JL Denly"
           ],
           "legendgroup": "",
           "marker": {
            "color": [
             3
            ],
            "coloraxis": "coloraxis",
            "size": [
             32.3
            ],
            "sizemode": "area",
            "sizeref": 0.101425,
            "symbol": "circle"
           },
           "mode": "markers",
           "name": "",
           "orientation": "v",
           "showlegend": false,
           "type": "scatter",
           "x": [
            12
           ],
           "xaxis": "x",
           "y": [
            323
           ],
           "yaxis": "y"
          }
         ],
         "name": "2018-2018"
        },
        {
         "data": [
          {
           "customdata": [
            [
             "BB McCullum"
            ]
           ],
           "hovertemplate": "Span=2017-2018<br>Match=%{x}<br>Runs=%{y}<br>Ave=%{marker.size}<br>Player=%{customdata[0]}<br>50=%{marker.color}<extra></extra>",
           "ids": [
            "BB McCullum"
           ],
           "legendgroup": "",
           "marker": {
            "color": [
             0
            ],
            "coloraxis": "coloraxis",
            "size": [
             20.73
            ],
            "sizemode": "area",
            "sizeref": 0.101425,
            "symbol": "circle"
           },
           "mode": "markers",
           "name": "",
           "orientation": "v",
           "showlegend": false,
           "type": "scatter",
           "x": [
            18
           ],
           "xaxis": "x",
           "y": [
            311
           ],
           "yaxis": "y"
          }
         ],
         "name": "2017-2018"
        },
        {
         "data": [
          {
           "customdata": [
            [
             "CA Lynn"
            ]
           ],
           "hovertemplate": "Span=2020-2020<br>Match=%{x}<br>Runs=%{y}<br>Ave=%{marker.size}<br>Player=%{customdata[0]}<br>50=%{marker.color}<extra></extra>",
           "ids": [
            "CA Lynn"
           ],
           "legendgroup": "",
           "marker": {
            "color": [
             1
            ],
            "coloraxis": "coloraxis",
            "size": [
             40.57
            ],
            "sizemode": "area",
            "sizeref": 0.101425,
            "symbol": "circle"
           },
           "mode": "markers",
           "name": "",
           "orientation": "v",
           "showlegend": false,
           "type": "scatter",
           "x": [
            8
           ],
           "xaxis": "x",
           "y": [
            284
           ],
           "yaxis": "y"
          }
         ],
         "name": "2020-2020"
        }
       ],
       "layout": {
        "coloraxis": {
         "colorbar": {
          "title": {
           "text": "50"
          }
         },
         "colorscale": [
          [
           0,
           "#0d0887"
          ],
          [
           0.1111111111111111,
           "#46039f"
          ],
          [
           0.2222222222222222,
           "#7201a8"
          ],
          [
           0.3333333333333333,
           "#9c179e"
          ],
          [
           0.4444444444444444,
           "#bd3786"
          ],
          [
           0.5555555555555556,
           "#d8576b"
          ],
          [
           0.6666666666666666,
           "#ed7953"
          ],
          [
           0.7777777777777778,
           "#fb9f3a"
          ],
          [
           0.8888888888888888,
           "#fdca26"
          ],
          [
           1,
           "#f0f921"
          ]
         ]
        },
        "legend": {
         "itemsizing": "constant",
         "tracegroupgap": 0
        },
        "margin": {
         "t": 60
        },
        "sliders": [
         {
          "active": 0,
          "currentvalue": {
           "prefix": "Span="
          },
          "len": 0.9,
          "pad": {
           "b": 10,
           "t": 60
          },
          "steps": [
           {
            "args": [
             [
              "2016-2020"
             ],
             {
              "frame": {
               "duration": 0,
               "redraw": false
              },
              "fromcurrent": true,
              "mode": "immediate",
              "transition": {
               "duration": 0,
               "easing": "linear"
              }
             }
            ],
            "label": "2016-2020",
            "method": "animate"
           },
           {
            "args": [
             [
              "2017-2020"
             ],
             {
              "frame": {
               "duration": 0,
               "redraw": false
              },
              "fromcurrent": true,
              "mode": "immediate",
              "transition": {
               "duration": 0,
               "easing": "linear"
              }
             }
            ],
            "label": "2017-2020",
            "method": "animate"
           },
           {
            "args": [
             [
              "2018-2020"
             ],
             {
              "frame": {
               "duration": 0,
               "redraw": false
              },
              "fromcurrent": true,
              "mode": "immediate",
              "transition": {
               "duration": 0,
               "easing": "linear"
              }
             }
            ],
            "label": "2018-2020",
            "method": "animate"
           },
           {
            "args": [
             [
              "2016-2019"
             ],
             {
              "frame": {
               "duration": 0,
               "redraw": false
              },
              "fromcurrent": true,
              "mode": "immediate",
              "transition": {
               "duration": 0,
               "easing": "linear"
              }
             }
            ],
            "label": "2016-2019",
            "method": "animate"
           },
           {
            "args": [
             [
              "2017-2019"
             ],
             {
              "frame": {
               "duration": 0,
               "redraw": false
              },
              "fromcurrent": true,
              "mode": "immediate",
              "transition": {
               "duration": 0,
               "easing": "linear"
              }
             }
            ],
            "label": "2017-2019",
            "method": "animate"
           },
           {
            "args": [
             [
              "2016-2018"
             ],
             {
              "frame": {
               "duration": 0,
               "redraw": false
              },
              "fromcurrent": true,
              "mode": "immediate",
              "transition": {
               "duration": 0,
               "easing": "linear"
              }
             }
            ],
            "label": "2016-2018",
            "method": "animate"
           },
           {
            "args": [
             [
              "2019-2020"
             ],
             {
              "frame": {
               "duration": 0,
               "redraw": false
              },
              "fromcurrent": true,
              "mode": "immediate",
              "transition": {
               "duration": 0,
               "easing": "linear"
              }
             }
            ],
            "label": "2019-2020",
            "method": "animate"
           },
           {
            "args": [
             [
              "2016-2017"
             ],
             {
              "frame": {
               "duration": 0,
               "redraw": false
              },
              "fromcurrent": true,
              "mode": "immediate",
              "transition": {
               "duration": 0,
               "easing": "linear"
              }
             }
            ],
            "label": "2016-2017",
            "method": "animate"
           },
           {
            "args": [
             [
              "2018-2018"
             ],
             {
              "frame": {
               "duration": 0,
               "redraw": false
              },
              "fromcurrent": true,
              "mode": "immediate",
              "transition": {
               "duration": 0,
               "easing": "linear"
              }
             }
            ],
            "label": "2018-2018",
            "method": "animate"
           },
           {
            "args": [
             [
              "2017-2018"
             ],
             {
              "frame": {
               "duration": 0,
               "redraw": false
              },
              "fromcurrent": true,
              "mode": "immediate",
              "transition": {
               "duration": 0,
               "easing": "linear"
              }
             }
            ],
            "label": "2017-2018",
            "method": "animate"
           },
           {
            "args": [
             [
              "2020-2020"
             ],
             {
              "frame": {
               "duration": 0,
               "redraw": false
              },
              "fromcurrent": true,
              "mode": "immediate",
              "transition": {
               "duration": 0,
               "easing": "linear"
              }
             }
            ],
            "label": "2020-2020",
            "method": "animate"
           }
          ],
          "x": 0.1,
          "xanchor": "left",
          "y": 0,
          "yanchor": "top"
         }
        ],
        "template": {
         "data": {
          "bar": [
           {
            "error_x": {
             "color": "#f2f5fa"
            },
            "error_y": {
             "color": "#f2f5fa"
            },
            "marker": {
             "line": {
              "color": "rgb(17,17,17)",
              "width": 0.5
             },
             "pattern": {
              "fillmode": "overlay",
              "size": 10,
              "solidity": 0.2
             }
            },
            "type": "bar"
           }
          ],
          "barpolar": [
           {
            "marker": {
             "line": {
              "color": "rgb(17,17,17)",
              "width": 0.5
             },
             "pattern": {
              "fillmode": "overlay",
              "size": 10,
              "solidity": 0.2
             }
            },
            "type": "barpolar"
           }
          ],
          "carpet": [
           {
            "aaxis": {
             "endlinecolor": "#A2B1C6",
             "gridcolor": "#506784",
             "linecolor": "#506784",
             "minorgridcolor": "#506784",
             "startlinecolor": "#A2B1C6"
            },
            "baxis": {
             "endlinecolor": "#A2B1C6",
             "gridcolor": "#506784",
             "linecolor": "#506784",
             "minorgridcolor": "#506784",
             "startlinecolor": "#A2B1C6"
            },
            "type": "carpet"
           }
          ],
          "choropleth": [
           {
            "colorbar": {
             "outlinewidth": 0,
             "ticks": ""
            },
            "type": "choropleth"
           }
          ],
          "contour": [
           {
            "colorbar": {
             "outlinewidth": 0,
             "ticks": ""
            },
            "colorscale": [
             [
              0,
              "#0d0887"
             ],
             [
              0.1111111111111111,
              "#46039f"
             ],
             [
              0.2222222222222222,
              "#7201a8"
             ],
             [
              0.3333333333333333,
              "#9c179e"
             ],
             [
              0.4444444444444444,
              "#bd3786"
             ],
             [
              0.5555555555555556,
              "#d8576b"
             ],
             [
              0.6666666666666666,
              "#ed7953"
             ],
             [
              0.7777777777777778,
              "#fb9f3a"
             ],
             [
              0.8888888888888888,
              "#fdca26"
             ],
             [
              1,
              "#f0f921"
             ]
            ],
            "type": "contour"
           }
          ],
          "contourcarpet": [
           {
            "colorbar": {
             "outlinewidth": 0,
             "ticks": ""
            },
            "type": "contourcarpet"
           }
          ],
          "heatmap": [
           {
            "colorbar": {
             "outlinewidth": 0,
             "ticks": ""
            },
            "colorscale": [
             [
              0,
              "#0d0887"
             ],
             [
              0.1111111111111111,
              "#46039f"
             ],
             [
              0.2222222222222222,
              "#7201a8"
             ],
             [
              0.3333333333333333,
              "#9c179e"
             ],
             [
              0.4444444444444444,
              "#bd3786"
             ],
             [
              0.5555555555555556,
              "#d8576b"
             ],
             [
              0.6666666666666666,
              "#ed7953"
             ],
             [
              0.7777777777777778,
              "#fb9f3a"
             ],
             [
              0.8888888888888888,
              "#fdca26"
             ],
             [
              1,
              "#f0f921"
             ]
            ],
            "type": "heatmap"
           }
          ],
          "heatmapgl": [
           {
            "colorbar": {
             "outlinewidth": 0,
             "ticks": ""
            },
            "colorscale": [
             [
              0,
              "#0d0887"
             ],
             [
              0.1111111111111111,
              "#46039f"
             ],
             [
              0.2222222222222222,
              "#7201a8"
             ],
             [
              0.3333333333333333,
              "#9c179e"
             ],
             [
              0.4444444444444444,
              "#bd3786"
             ],
             [
              0.5555555555555556,
              "#d8576b"
             ],
             [
              0.6666666666666666,
              "#ed7953"
             ],
             [
              0.7777777777777778,
              "#fb9f3a"
             ],
             [
              0.8888888888888888,
              "#fdca26"
             ],
             [
              1,
              "#f0f921"
             ]
            ],
            "type": "heatmapgl"
           }
          ],
          "histogram": [
           {
            "marker": {
             "pattern": {
              "fillmode": "overlay",
              "size": 10,
              "solidity": 0.2
             }
            },
            "type": "histogram"
           }
          ],
          "histogram2d": [
           {
            "colorbar": {
             "outlinewidth": 0,
             "ticks": ""
            },
            "colorscale": [
             [
              0,
              "#0d0887"
             ],
             [
              0.1111111111111111,
              "#46039f"
             ],
             [
              0.2222222222222222,
              "#7201a8"
             ],
             [
              0.3333333333333333,
              "#9c179e"
             ],
             [
              0.4444444444444444,
              "#bd3786"
             ],
             [
              0.5555555555555556,
              "#d8576b"
             ],
             [
              0.6666666666666666,
              "#ed7953"
             ],
             [
              0.7777777777777778,
              "#fb9f3a"
             ],
             [
              0.8888888888888888,
              "#fdca26"
             ],
             [
              1,
              "#f0f921"
             ]
            ],
            "type": "histogram2d"
           }
          ],
          "histogram2dcontour": [
           {
            "colorbar": {
             "outlinewidth": 0,
             "ticks": ""
            },
            "colorscale": [
             [
              0,
              "#0d0887"
             ],
             [
              0.1111111111111111,
              "#46039f"
             ],
             [
              0.2222222222222222,
              "#7201a8"
             ],
             [
              0.3333333333333333,
              "#9c179e"
             ],
             [
              0.4444444444444444,
              "#bd3786"
             ],
             [
              0.5555555555555556,
              "#d8576b"
             ],
             [
              0.6666666666666666,
              "#ed7953"
             ],
             [
              0.7777777777777778,
              "#fb9f3a"
             ],
             [
              0.8888888888888888,
              "#fdca26"
             ],
             [
              1,
              "#f0f921"
             ]
            ],
            "type": "histogram2dcontour"
           }
          ],
          "mesh3d": [
           {
            "colorbar": {
             "outlinewidth": 0,
             "ticks": ""
            },
            "type": "mesh3d"
           }
          ],
          "parcoords": [
           {
            "line": {
             "colorbar": {
              "outlinewidth": 0,
              "ticks": ""
             }
            },
            "type": "parcoords"
           }
          ],
          "pie": [
           {
            "automargin": true,
            "type": "pie"
           }
          ],
          "scatter": [
           {
            "marker": {
             "line": {
              "color": "#283442"
             }
            },
            "type": "scatter"
           }
          ],
          "scatter3d": [
           {
            "line": {
             "colorbar": {
              "outlinewidth": 0,
              "ticks": ""
             }
            },
            "marker": {
             "colorbar": {
              "outlinewidth": 0,
              "ticks": ""
             }
            },
            "type": "scatter3d"
           }
          ],
          "scattercarpet": [
           {
            "marker": {
             "colorbar": {
              "outlinewidth": 0,
              "ticks": ""
             }
            },
            "type": "scattercarpet"
           }
          ],
          "scattergeo": [
           {
            "marker": {
             "colorbar": {
              "outlinewidth": 0,
              "ticks": ""
             }
            },
            "type": "scattergeo"
           }
          ],
          "scattergl": [
           {
            "marker": {
             "line": {
              "color": "#283442"
             }
            },
            "type": "scattergl"
           }
          ],
          "scattermapbox": [
           {
            "marker": {
             "colorbar": {
              "outlinewidth": 0,
              "ticks": ""
             }
            },
            "type": "scattermapbox"
           }
          ],
          "scatterpolar": [
           {
            "marker": {
             "colorbar": {
              "outlinewidth": 0,
              "ticks": ""
             }
            },
            "type": "scatterpolar"
           }
          ],
          "scatterpolargl": [
           {
            "marker": {
             "colorbar": {
              "outlinewidth": 0,
              "ticks": ""
             }
            },
            "type": "scatterpolargl"
           }
          ],
          "scatterternary": [
           {
            "marker": {
             "colorbar": {
              "outlinewidth": 0,
              "ticks": ""
             }
            },
            "type": "scatterternary"
           }
          ],
          "surface": [
           {
            "colorbar": {
             "outlinewidth": 0,
             "ticks": ""
            },
            "colorscale": [
             [
              0,
              "#0d0887"
             ],
             [
              0.1111111111111111,
              "#46039f"
             ],
             [
              0.2222222222222222,
              "#7201a8"
             ],
             [
              0.3333333333333333,
              "#9c179e"
             ],
             [
              0.4444444444444444,
              "#bd3786"
             ],
             [
              0.5555555555555556,
              "#d8576b"
             ],
             [
              0.6666666666666666,
              "#ed7953"
             ],
             [
              0.7777777777777778,
              "#fb9f3a"
             ],
             [
              0.8888888888888888,
              "#fdca26"
             ],
             [
              1,
              "#f0f921"
             ]
            ],
            "type": "surface"
           }
          ],
          "table": [
           {
            "cells": {
             "fill": {
              "color": "#506784"
             },
             "line": {
              "color": "rgb(17,17,17)"
             }
            },
            "header": {
             "fill": {
              "color": "#2a3f5f"
             },
             "line": {
              "color": "rgb(17,17,17)"
             }
            },
            "type": "table"
           }
          ]
         },
         "layout": {
          "annotationdefaults": {
           "arrowcolor": "#f2f5fa",
           "arrowhead": 0,
           "arrowwidth": 1
          },
          "autotypenumbers": "strict",
          "coloraxis": {
           "colorbar": {
            "outlinewidth": 0,
            "ticks": ""
           }
          },
          "colorscale": {
           "diverging": [
            [
             0,
             "#8e0152"
            ],
            [
             0.1,
             "#c51b7d"
            ],
            [
             0.2,
             "#de77ae"
            ],
            [
             0.3,
             "#f1b6da"
            ],
            [
             0.4,
             "#fde0ef"
            ],
            [
             0.5,
             "#f7f7f7"
            ],
            [
             0.6,
             "#e6f5d0"
            ],
            [
             0.7,
             "#b8e186"
            ],
            [
             0.8,
             "#7fbc41"
            ],
            [
             0.9,
             "#4d9221"
            ],
            [
             1,
             "#276419"
            ]
           ],
           "sequential": [
            [
             0,
             "#0d0887"
            ],
            [
             0.1111111111111111,
             "#46039f"
            ],
            [
             0.2222222222222222,
             "#7201a8"
            ],
            [
             0.3333333333333333,
             "#9c179e"
            ],
            [
             0.4444444444444444,
             "#bd3786"
            ],
            [
             0.5555555555555556,
             "#d8576b"
            ],
            [
             0.6666666666666666,
             "#ed7953"
            ],
            [
             0.7777777777777778,
             "#fb9f3a"
            ],
            [
             0.8888888888888888,
             "#fdca26"
            ],
            [
             1,
             "#f0f921"
            ]
           ],
           "sequentialminus": [
            [
             0,
             "#0d0887"
            ],
            [
             0.1111111111111111,
             "#46039f"
            ],
            [
             0.2222222222222222,
             "#7201a8"
            ],
            [
             0.3333333333333333,
             "#9c179e"
            ],
            [
             0.4444444444444444,
             "#bd3786"
            ],
            [
             0.5555555555555556,
             "#d8576b"
            ],
            [
             0.6666666666666666,
             "#ed7953"
            ],
            [
             0.7777777777777778,
             "#fb9f3a"
            ],
            [
             0.8888888888888888,
             "#fdca26"
            ],
            [
             1,
             "#f0f921"
            ]
           ]
          },
          "colorway": [
           "#636efa",
           "#EF553B",
           "#00cc96",
           "#ab63fa",
           "#FFA15A",
           "#19d3f3",
           "#FF6692",
           "#B6E880",
           "#FF97FF",
           "#FECB52"
          ],
          "font": {
           "color": "#f2f5fa"
          },
          "geo": {
           "bgcolor": "rgb(17,17,17)",
           "lakecolor": "rgb(17,17,17)",
           "landcolor": "rgb(17,17,17)",
           "showlakes": true,
           "showland": true,
           "subunitcolor": "#506784"
          },
          "hoverlabel": {
           "align": "left"
          },
          "hovermode": "closest",
          "mapbox": {
           "style": "dark"
          },
          "paper_bgcolor": "rgb(17,17,17)",
          "plot_bgcolor": "rgb(17,17,17)",
          "polar": {
           "angularaxis": {
            "gridcolor": "#506784",
            "linecolor": "#506784",
            "ticks": ""
           },
           "bgcolor": "rgb(17,17,17)",
           "radialaxis": {
            "gridcolor": "#506784",
            "linecolor": "#506784",
            "ticks": ""
           }
          },
          "scene": {
           "xaxis": {
            "backgroundcolor": "rgb(17,17,17)",
            "gridcolor": "#506784",
            "gridwidth": 2,
            "linecolor": "#506784",
            "showbackground": true,
            "ticks": "",
            "zerolinecolor": "#C8D4E3"
           },
           "yaxis": {
            "backgroundcolor": "rgb(17,17,17)",
            "gridcolor": "#506784",
            "gridwidth": 2,
            "linecolor": "#506784",
            "showbackground": true,
            "ticks": "",
            "zerolinecolor": "#C8D4E3"
           },
           "zaxis": {
            "backgroundcolor": "rgb(17,17,17)",
            "gridcolor": "#506784",
            "gridwidth": 2,
            "linecolor": "#506784",
            "showbackground": true,
            "ticks": "",
            "zerolinecolor": "#C8D4E3"
           }
          },
          "shapedefaults": {
           "line": {
            "color": "#f2f5fa"
           }
          },
          "sliderdefaults": {
           "bgcolor": "#C8D4E3",
           "bordercolor": "rgb(17,17,17)",
           "borderwidth": 1,
           "tickwidth": 0
          },
          "ternary": {
           "aaxis": {
            "gridcolor": "#506784",
            "linecolor": "#506784",
            "ticks": ""
           },
           "baxis": {
            "gridcolor": "#506784",
            "linecolor": "#506784",
            "ticks": ""
           },
           "bgcolor": "rgb(17,17,17)",
           "caxis": {
            "gridcolor": "#506784",
            "linecolor": "#506784",
            "ticks": ""
           }
          },
          "title": {
           "x": 0.05
          },
          "updatemenudefaults": {
           "bgcolor": "#506784",
           "borderwidth": 0
          },
          "xaxis": {
           "automargin": true,
           "gridcolor": "#283442",
           "linecolor": "#506784",
           "ticks": "",
           "title": {
            "standoff": 15
           },
           "zerolinecolor": "#283442",
           "zerolinewidth": 2
          },
          "yaxis": {
           "automargin": true,
           "gridcolor": "#283442",
           "linecolor": "#506784",
           "ticks": "",
           "title": {
            "standoff": 15
           },
           "zerolinecolor": "#283442",
           "zerolinewidth": 2
          }
         }
        },
        "transition": {
         "duration": 20000
        },
        "updatemenus": [
         {
          "buttons": [
           {
            "args": [
             null,
             {
              "frame": {
               "duration": 500,
               "redraw": false
              },
              "fromcurrent": true,
              "mode": "immediate",
              "transition": {
               "duration": 500,
               "easing": "linear"
              }
             }
            ],
            "label": "&#9654;",
            "method": "animate"
           },
           {
            "args": [
             [
              null
             ],
             {
              "frame": {
               "duration": 0,
               "redraw": false
              },
              "fromcurrent": true,
              "mode": "immediate",
              "transition": {
               "duration": 0,
               "easing": "linear"
              }
             }
            ],
            "label": "&#9724;",
            "method": "animate"
           }
          ],
          "direction": "left",
          "pad": {
           "r": 10,
           "t": 70
          },
          "showactive": false,
          "type": "buttons",
          "x": 0.1,
          "xanchor": "right",
          "y": 0,
          "yanchor": "top"
         }
        ],
        "xaxis": {
         "anchor": "y",
         "domain": [
          0,
          1
         ],
         "title": {
          "text": "Match"
         }
        },
        "yaxis": {
         "anchor": "x",
         "domain": [
          0,
          1
         ],
         "title": {
          "text": "Runs"
         }
        }
       }
      }
     },
     "metadata": {},
     "output_type": "display_data"
    }
   ],
   "source": [
    "fig = px.scatter(\n",
    "    df , x='Match' , y='Runs' , animation_frame=\"Span\" , animation_group=\"Player\", size = \"Ave\" , color = '50' , template = 'plotly_dark',\n",
    "    hover_data=['Player'] \n",
    ") \n",
    "fig.update_layout(transition_duration=20000)\n",
    "fig.show()"
   ]
  },
  {
   "cell_type": "code",
   "execution_count": null,
   "metadata": {},
   "outputs": [],
   "source": []
  }
 ],
 "metadata": {
  "interpreter": {
   "hash": "acda11a18df8457a66539dabc7158352f8698b7cdb86e1c69fe6d1b93a3cec72"
  },
  "kernelspec": {
   "display_name": "Python 3.10.4 64-bit",
   "language": "python",
   "name": "python3"
  },
  "language_info": {
   "codemirror_mode": {
    "name": "ipython",
    "version": 3
   },
   "file_extension": ".py",
   "mimetype": "text/x-python",
   "name": "python",
   "nbconvert_exporter": "python",
   "pygments_lexer": "ipython3",
   "version": "3.10.4"
  },
  "orig_nbformat": 4
 },
 "nbformat": 4,
 "nbformat_minor": 2
}
