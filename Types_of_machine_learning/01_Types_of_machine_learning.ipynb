{
 "cells": [
  {
   "cell_type": "markdown",
   "metadata": {},
   "source": [
    "# __Types of Machine learning__ \n",
    "- There are three types of machine learning :\n",
    "- 1- _Supervised machine learning_\n",
    "- 2- _Unsupervised machine learning_\n",
    "- 3- _Reinforcement_ "
   ]
  },
  {
   "cell_type": "markdown",
   "metadata": {},
   "source": [
    "#### __Supervised Machine Learning__\n",
    "- In this type we are given both input and output and we have to predict the value by training our model with the given input and output"
   ]
  },
  {
   "cell_type": "markdown",
   "metadata": {},
   "source": [
    "#### __Unsupervised Machine Learning__\n",
    "- In this type we are given just the input data no output data is given we have to predict the output value by just using the input data value."
   ]
  },
  {
   "cell_type": "markdown",
   "metadata": {},
   "source": [
    "#### __Reinforcement Machine Learning__\n",
    "- In this type of machine learning no input and output is gib=ven to us.\n",
    "- An agent , some enviorment is only thing present in it and out agent try to achieve the goal which we assign him and he succeed or fail. In case of failure he tries to adapt some other techniques to accomplish the target."
   ]
  }
 ],
 "metadata": {
  "language_info": {
   "name": "python"
  },
  "orig_nbformat": 4
 },
 "nbformat": 4,
 "nbformat_minor": 2
}
